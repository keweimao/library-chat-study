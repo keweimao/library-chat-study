{
  "cells": [
    {
      "cell_type": "code",
      "execution_count": null,
      "metadata": {
        "id": "eypjvHbFBVn9"
      },
      "outputs": [],
      "source": [
        "#!pip install tld #(sometimes necessary)\n",
        "from tld import get_tld\n",
        "import requests\n",
        "import re\n",
        "import csv\n",
        "import json\n",
        "import pandas as pd\n",
        "from bs4 import BeautifulSoup\n",
        "from googlesearch import search\n",
        "from numpy import random\n",
        "import time\n"
      ]
    },
    {
      "cell_type": "code",
      "execution_count": null,
      "metadata": {
        "colab": {
          "base_uri": "https://localhost:8080/"
        },
        "id": "SX5YEuXu6cWG",
        "outputId": "92e18de8-1a53-49eb-cb46-c07593d8820e"
      },
      "outputs": [
        {
          "name": "stdout",
          "output_type": "stream",
          "text": [
            "Looking in indexes: https://pypi.org/simple, https://us-python.pkg.dev/colab-wheels/public/simple/\n",
            "Collecting tld\n",
            "  Downloading tld-0.12.6-py37-none-any.whl (412 kB)\n",
            "\u001b[K     |████████████████████████████████| 412 kB 5.1 MB/s \n",
            "\u001b[?25hInstalling collected packages: tld\n",
            "Successfully installed tld-0.12.6\n",
            "Looking in indexes: https://pypi.org/simple, https://us-python.pkg.dev/colab-wheels/public/simple/\n",
            "Collecting stanza\n",
            "  Downloading stanza-1.4.0-py3-none-any.whl (574 kB)\n",
            "\u001b[K     |████████████████████████████████| 574 kB 5.0 MB/s \n",
            "\u001b[?25hRequirement already satisfied: six in /usr/local/lib/python3.7/dist-packages (from stanza) (1.15.0)\n",
            "Collecting emoji\n",
            "  Downloading emoji-2.0.0.tar.gz (197 kB)\n",
            "\u001b[K     |████████████████████████████████| 197 kB 48.4 MB/s \n",
            "\u001b[?25hCollecting transformers\n",
            "  Downloading transformers-4.20.1-py3-none-any.whl (4.4 MB)\n",
            "\u001b[K     |████████████████████████████████| 4.4 MB 43.6 MB/s \n",
            "\u001b[?25hRequirement already satisfied: protobuf in /usr/local/lib/python3.7/dist-packages (from stanza) (3.17.3)\n",
            "Requirement already satisfied: requests in /usr/local/lib/python3.7/dist-packages (from stanza) (2.23.0)\n",
            "Requirement already satisfied: torch>=1.3.0 in /usr/local/lib/python3.7/dist-packages (from stanza) (1.12.0+cu113)\n",
            "Requirement already satisfied: numpy in /usr/local/lib/python3.7/dist-packages (from stanza) (1.21.6)\n",
            "Requirement already satisfied: tqdm in /usr/local/lib/python3.7/dist-packages (from stanza) (4.64.0)\n",
            "Requirement already satisfied: typing-extensions in /usr/local/lib/python3.7/dist-packages (from torch>=1.3.0->stanza) (4.1.1)\n",
            "Requirement already satisfied: idna<3,>=2.5 in /usr/local/lib/python3.7/dist-packages (from requests->stanza) (2.10)\n",
            "Requirement already satisfied: urllib3!=1.25.0,!=1.25.1,<1.26,>=1.21.1 in /usr/local/lib/python3.7/dist-packages (from requests->stanza) (1.24.3)\n",
            "Requirement already satisfied: certifi>=2017.4.17 in /usr/local/lib/python3.7/dist-packages (from requests->stanza) (2022.6.15)\n",
            "Requirement already satisfied: chardet<4,>=3.0.2 in /usr/local/lib/python3.7/dist-packages (from requests->stanza) (3.0.4)\n",
            "Requirement already satisfied: packaging>=20.0 in /usr/local/lib/python3.7/dist-packages (from transformers->stanza) (21.3)\n",
            "Collecting tokenizers!=0.11.3,<0.13,>=0.11.1\n",
            "  Downloading tokenizers-0.12.1-cp37-cp37m-manylinux_2_12_x86_64.manylinux2010_x86_64.whl (6.6 MB)\n",
            "\u001b[K     |████████████████████████████████| 6.6 MB 20.9 MB/s \n",
            "\u001b[?25hRequirement already satisfied: filelock in /usr/local/lib/python3.7/dist-packages (from transformers->stanza) (3.7.1)\n",
            "Requirement already satisfied: regex!=2019.12.17 in /usr/local/lib/python3.7/dist-packages (from transformers->stanza) (2022.6.2)\n",
            "Collecting huggingface-hub<1.0,>=0.1.0\n",
            "  Downloading huggingface_hub-0.8.1-py3-none-any.whl (101 kB)\n",
            "\u001b[K     |████████████████████████████████| 101 kB 8.4 MB/s \n",
            "\u001b[?25hCollecting pyyaml>=5.1\n",
            "  Downloading PyYAML-6.0-cp37-cp37m-manylinux_2_5_x86_64.manylinux1_x86_64.manylinux_2_12_x86_64.manylinux2010_x86_64.whl (596 kB)\n",
            "\u001b[K     |████████████████████████████████| 596 kB 11.9 MB/s \n",
            "\u001b[?25hRequirement already satisfied: importlib-metadata in /usr/local/lib/python3.7/dist-packages (from transformers->stanza) (4.12.0)\n",
            "Requirement already satisfied: pyparsing!=3.0.5,>=2.0.2 in /usr/local/lib/python3.7/dist-packages (from packaging>=20.0->transformers->stanza) (3.0.9)\n",
            "Requirement already satisfied: zipp>=0.5 in /usr/local/lib/python3.7/dist-packages (from importlib-metadata->transformers->stanza) (3.8.0)\n",
            "Building wheels for collected packages: emoji\n",
            "  Building wheel for emoji (setup.py) ... \u001b[?25l\u001b[?25hdone\n",
            "  Created wheel for emoji: filename=emoji-2.0.0-py3-none-any.whl size=193022 sha256=46a3c5b9e5013a4a0191d1d2f10ebb94216985c1beb09040535975feab5c41b1\n",
            "  Stored in directory: /root/.cache/pip/wheels/ec/29/4d/3cfe7452ac7d8d83b1930f8a6205c3c9649b24e80f9029fc38\n",
            "Successfully built emoji\n",
            "Installing collected packages: pyyaml, tokenizers, huggingface-hub, transformers, emoji, stanza\n",
            "  Attempting uninstall: pyyaml\n",
            "    Found existing installation: PyYAML 3.13\n",
            "    Uninstalling PyYAML-3.13:\n",
            "      Successfully uninstalled PyYAML-3.13\n",
            "Successfully installed emoji-2.0.0 huggingface-hub-0.8.1 pyyaml-6.0 stanza-1.4.0 tokenizers-0.12.1 transformers-4.20.1\n"
          ]
        }
      ],
      "source": [
        "# !pip install tld\n",
        "# !pip install stanza"
      ]
    },
    {
      "cell_type": "code",
      "execution_count": null,
      "metadata": {
        "colab": {
          "base_uri": "https://localhost:8080/",
          "height": 911,
          "referenced_widgets": [
            "078bd16e6a984e408defb8ded3a4498d",
            "15861185c800440b804a5d70bec6dda3",
            "9791743b8ed24d169fea656e8d3c9245",
            "9d80e4e5f6784016bb71e1b94b862a82",
            "d32df74202214096b5af1ada9c38c47b",
            "7763d2ef4fd84da2ba83717eaa905e87",
            "f364b87c1534493ea15ed7983d5bff45",
            "79a19a6fe65e4e52a96b8f8b43758b49",
            "7b96f1f2a675472a9c53d2485d99f8ff",
            "334ee58410b446e59b5c4d207beab399",
            "bc277808630144f589014828bbb18367",
            "acdabc22e7d943caab95d0e2c9452c3d",
            "6ac602d565174f24834ee4b37439ebb7",
            "bd33ee1dd1bd445da28df6b913752c80",
            "e59a0c8d8d9e48f49026da3ca06ef625",
            "02eae175d47c4182a94b44405f6ecbf4",
            "126e60f4b6964b0fb387be0ad6d1e1eb",
            "554a1a117c7543d1995a3910d9a98647",
            "4c5c7c4cc35747c78e1c3f054b2c58a9",
            "2a594031aba5473db508c62dc8028a78",
            "a78e0410b8ce4d778d02b66a2dc10bd7",
            "88f135438988482987a11336f6b77d60",
            "3d19897382f24239a70f0a1b2e9b0a36",
            "9012bb662e8847fd886f843b2bccd963",
            "aabe6997bdd942f59d13df34a5e50f0c",
            "e90c96365d1a4718bba2683f3732b484",
            "199ee60f098e4ff1b46edc35599a5ab5",
            "7c156621fcf44bb5ac10fb478810a923",
            "3bdd6cb518a54b20b18edcd0c84afdc8",
            "e248548cefd64e84b7f802898ce2dda7",
            "438292eb4cf340e5a19690afaa2f55f9",
            "8757c10031294cf2b2501d4ca5c58834",
            "2cd4406056a54ae795f4b8d8145279d7"
          ]
        },
        "id": "wnUJC7-8OhfF",
        "outputId": "0afc489f-f5af-4318-bf89-c40d7e48f332"
      },
      "outputs": [
        {
          "data": {
            "application/vnd.jupyter.widget-view+json": {
              "model_id": "078bd16e6a984e408defb8ded3a4498d",
              "version_major": 2,
              "version_minor": 0
            },
            "text/plain": [
              "Downloading https://raw.githubusercontent.com/stanfordnlp/stanza-resources/main/resources_1.4.0.json:   0%|   …"
            ]
          },
          "metadata": {},
          "output_type": "display_data"
        },
        {
          "name": "stderr",
          "output_type": "stream",
          "text": [
            "2022-06-24 12:38:36 INFO: Downloading default packages for language: en (English)...\n"
          ]
        },
        {
          "data": {
            "application/vnd.jupyter.widget-view+json": {
              "model_id": "acdabc22e7d943caab95d0e2c9452c3d",
              "version_major": 2,
              "version_minor": 0
            },
            "text/plain": [
              "Downloading https://huggingface.co/stanfordnlp/stanza-en/resolve/v1.4.0/models/default.zip:   0%|          | 0…"
            ]
          },
          "metadata": {},
          "output_type": "display_data"
        },
        {
          "name": "stderr",
          "output_type": "stream",
          "text": [
            "2022-06-24 12:38:58 INFO: Finished downloading models and saved to /root/stanza_resources.\n"
          ]
        },
        {
          "data": {
            "application/vnd.jupyter.widget-view+json": {
              "model_id": "3d19897382f24239a70f0a1b2e9b0a36",
              "version_major": 2,
              "version_minor": 0
            },
            "text/plain": [
              "Downloading https://raw.githubusercontent.com/stanfordnlp/stanza-resources/main/resources_1.4.0.json:   0%|   …"
            ]
          },
          "metadata": {},
          "output_type": "display_data"
        },
        {
          "name": "stderr",
          "output_type": "stream",
          "text": [
            "2022-06-24 12:39:01 INFO: Loading these models for language: en (English):\n",
            "============================\n",
            "| Processor    | Package   |\n",
            "----------------------------\n",
            "| tokenize     | combined  |\n",
            "| pos          | combined  |\n",
            "| lemma        | combined  |\n",
            "| depparse     | combined  |\n",
            "| sentiment    | sstplus   |\n",
            "| constituency | wsj       |\n",
            "| ner          | ontonotes |\n",
            "============================\n",
            "\n",
            "2022-06-24 12:39:01 INFO: Use device: cpu\n",
            "2022-06-24 12:39:01 INFO: Loading: tokenize\n",
            "2022-06-24 12:39:01 INFO: Loading: pos\n",
            "2022-06-24 12:39:01 INFO: Loading: lemma\n",
            "2022-06-24 12:39:01 INFO: Loading: depparse\n",
            "2022-06-24 12:39:01 INFO: Loading: sentiment\n",
            "2022-06-24 12:39:01 INFO: Loading: constituency\n",
            "2022-06-24 12:39:02 INFO: Loading: ner\n",
            "2022-06-24 12:39:03 INFO: Done loading processors!\n"
          ]
        },
        {
          "name": "stdout",
          "output_type": "stream",
          "text": [
            "('Nancy', 7, 'nsubj')\n",
            "('Peterson', 1, 'flat')\n",
            "('is', 7, 'cop')\n",
            "('the', 7, 'det')\n",
            "('Chief', 7, 'amod')\n",
            "('Executive', 7, 'amod')\n",
            "('Officer', 0, 'root')\n",
            "('of', 9, 'case')\n",
            "('Apple', 7, 'nmod')\n",
            "('and', 14, 'cc')\n",
            "('she', 14, 'nsubj:pass')\n",
            "('can', 14, 'aux')\n",
            "('be', 14, 'aux:pass')\n",
            "('contacted', 7, 'conj')\n",
            "('at', 16, 'case')\n",
            "('npeterson@apple.org', 14, 'obl')\n"
          ]
        }
      ],
      "source": [
        "#!pip install stanza\n",
        "#Successful \n",
        "import stanza\n",
        "stanza.download('en')\n",
        "nlp = stanza.Pipeline('en')\n",
        "doc = nlp('Nancy Peterson is the Chief Executive Officer of Apple and she can be contacted at npeterson@apple.org')\n",
        "doc.sentences[0].print_dependencies()"
      ]
    },
    {
      "cell_type": "code",
      "execution_count": null,
      "metadata": {
        "colab": {
          "base_uri": "https://localhost:8080/",
          "height": 240
        },
        "id": "mU8uNEnMDblq",
        "outputId": "6a9ad177-1009-4a3c-8126-216cd8262dc6"
      },
      "outputs": [
        {
          "ename": "NameError",
          "evalue": "ignored",
          "output_type": "error",
          "traceback": [
            "\u001b[0;31m---------------------------------------------------------------------------\u001b[0m",
            "\u001b[0;31mNameError\u001b[0m                                 Traceback (most recent call last)",
            "\u001b[0;32m<ipython-input-5-9339ada73138>\u001b[0m in \u001b[0;36m<module>\u001b[0;34m()\u001b[0m\n\u001b[1;32m      1\u001b[0m \u001b[0;31m# text = 'Nancy Peterson is the Chief Executive Officer of Apple and she can be contacted at npeterson@apple.org'\u001b[0m\u001b[0;34m\u001b[0m\u001b[0;34m\u001b[0m\u001b[0;34m\u001b[0m\u001b[0m\n\u001b[1;32m      2\u001b[0m \u001b[0mtext\u001b[0m \u001b[0;34m=\u001b[0m \u001b[0;34m'Hal Bright, MIRLS \\n University Library Director, Library Liaison to ASDOH \\n hbright@atsu.edu \\n 480.219.6036'\u001b[0m\u001b[0;34m\u001b[0m\u001b[0;34m\u001b[0m\u001b[0m\n\u001b[0;32m----> 3\u001b[0;31m \u001b[0mdocument\u001b[0m \u001b[0;34m=\u001b[0m \u001b[0mclient\u001b[0m\u001b[0;34m.\u001b[0m\u001b[0mannotate\u001b[0m\u001b[0;34m(\u001b[0m\u001b[0mtext\u001b[0m\u001b[0;34m)\u001b[0m\u001b[0;34m\u001b[0m\u001b[0;34m\u001b[0m\u001b[0m\n\u001b[0m\u001b[1;32m      4\u001b[0m \u001b[0;31m#print(document)\u001b[0m\u001b[0;34m\u001b[0m\u001b[0;34m\u001b[0m\u001b[0;34m\u001b[0m\u001b[0m\n\u001b[1;32m      5\u001b[0m \u001b[0mmentionTypeDict\u001b[0m \u001b[0;34m=\u001b[0m \u001b[0;34m{\u001b[0m\u001b[0;34m}\u001b[0m\u001b[0;34m\u001b[0m\u001b[0;34m\u001b[0m\u001b[0m\n",
            "\u001b[0;31mNameError\u001b[0m: name 'client' is not defined"
          ]
        }
      ],
      "source": [
        "# Tester with server \n",
        "\n",
        "\n",
        "# # text = 'Nancy Peterson is the Chief Executive Officer of Apple and she can be contacted at npeterson@apple.org'\n",
        "# text = 'Hal Bright, MIRLS \\n University Library Director, Library Liaison to ASDOH \\n hbright@atsu.edu \\n 480.219.6036'\n",
        "# document = client.annotate(text)\n",
        "# #print(document)\n",
        "# mentionTypeDict = {}\n",
        "# for i, sent in enumerate(document.sentence):\n",
        "#      for m in sent.mentions:\n",
        "#        mentionTypeDict[m.entityMentionText] = m.entityType"
      ]
    },
    {
      "cell_type": "code",
      "execution_count": null,
      "metadata": {
        "id": "5wNmKHLSHnj2"
      },
      "outputs": [],
      "source": [
        "# print(mentionTypeDict)"
      ]
    },
    {
      "cell_type": "code",
      "execution_count": null,
      "metadata": {
        "id": "fH2_GKLoIBGK"
      },
      "outputs": [],
      "source": [
        "# values = mentionTypeDict.values()\n",
        "# values = list(values)\n",
        "# print(values)"
      ]
    },
    {
      "cell_type": "code",
      "execution_count": null,
      "metadata": {
        "id": "iRlnEOhBQjWu"
      },
      "outputs": [],
      "source": [
        "# for i, (key, val) in enumerate(mentionTypeDict.items()):\n",
        "#   test = (i, key, val)\n",
        "#   print(test[0])"
      ]
    },
    {
      "cell_type": "code",
      "execution_count": null,
      "metadata": {
        "id": "GxRB8ltRVk8I"
      },
      "outputs": [],
      "source": [
        "# values = []"
      ]
    },
    {
      "cell_type": "code",
      "execution_count": null,
      "metadata": {
        "id": "FU1PT9XIJ0N8"
      },
      "outputs": [],
      "source": [
        "  # for i, (key, val) in enumerate(mentionTypeDict.items()):\n",
        "  #   listTup = (i, key, val)\n",
        "  #   index = listTup[0]\n",
        "  #   textForTags = listTup[1]\n",
        "  #   tag = listTup[2]\n",
        "  #   values.append(tag)\n",
        "  # print(values[i])"
      ]
    },
    {
      "cell_type": "code",
      "execution_count": null,
      "metadata": {
        "id": "5BgEkkJNDyGz"
      },
      "outputs": [],
      "source": [
        "# # print(mentionTypeDict)\n",
        "# def getContactsFromTextWindow(mentionTypeDict):\n",
        "#   listIndiv = []\n",
        "#   returnList = []\n",
        "#   values = []\n",
        "#   for i, (key, val) in enumerate(mentionTypeDict.items()):\n",
        "#     listTup = (i, key, val)\n",
        "#     index = listTup[0]\n",
        "#     textForTags = listTup[1]\n",
        "#     tag = listTup[2]\n",
        "#   values.append(tag)\n",
        "#   for i in range(values):\n",
        "#     if (values[i] == \"PERSON\" and values[i+1] == \"TITLE\" and values[i+2] == \"EMAIL\"):\n",
        "#       p = values[i]\n",
        "#       t = values[i+1]\n",
        "#       e = values[i+2]\n",
        "#       listIndiv.append(p)\n",
        "#       listIndiv.append(t)\n",
        "#       listIndiv.append(e)\n",
        "#     if (values[i] == \"PERSON\" and values[i+1] == \"EMAIL\" and values[i+2] == \"TITLE\"):\n",
        "#       p = values[i]\n",
        "#       e = values[i+1]\n",
        "#       t = values[i+2]\n",
        "#       listIndiv.append(p)\n",
        "#       listIndiv.append(e)\n",
        "#       listIndiv.append(t)\n",
        "#     if (values[i] == \"PERSON\" and values[i+1] == \"TITLE\" and values[i+3] == \"EMAIL\"):\n",
        "#       p = values[i]\n",
        "#       t = values[i+1]\n",
        "#       e = values[i+3]\n",
        "#       listIndiv.append(p)\n",
        "#       listIndiv.append(t)\n",
        "#       listIndiv.append(e)\n",
        "#     if (values[i] == \"PERSON\" and values[i+1] == \"EMAIL\" and values[i+3] == \"TITLE\"):\n",
        "#       p = values[i]\n",
        "#       e = values[i+1]\n",
        "#       t = values[i+3]\n",
        "#       listIndiv.append(p)\n",
        "#       listIndiv.append(e)\n",
        "#       listIndiv.append(t)\n",
        "#     if (values[i] == \"PERSON\" and values[i+2] == \"TITLE\" and values[i+3] == \"EMAIL\"):\n",
        "#       p = values[i]\n",
        "#       t = values[i+2]\n",
        "#       e = values[i+3]\n",
        "#       listIndiv.append(p)\n",
        "#       listIndiv.append(t)\n",
        "#       listIndiv.append(e)\n",
        "#     if (values[i] == \"PERSON\" and values[i+2] == \"EMAIL\" and values[i+3] == \"TITLE\"):\n",
        "#       p = values[i]\n",
        "#       e = values[i+2]\n",
        "#       t = values[i+3]\n",
        "#       listIndiv.append(p)\n",
        "#       listIndiv.append(e)\n",
        "#       listIndiv.append(t)\n",
        "#     returnList.append(listIndiv)\n",
        "#   return returnList"
      ]
    },
    {
      "cell_type": "code",
      "execution_count": null,
      "metadata": {
        "id": "5FWS2fYEJMcv"
      },
      "outputs": [],
      "source": [
        "# print(returnList)"
      ]
    },
    {
      "cell_type": "code",
      "execution_count": null,
      "metadata": {
        "colab": {
          "base_uri": "https://localhost:8080/",
          "height": 138,
          "referenced_widgets": [
            "1453133081aa43729e89a6fa45a9edeb",
            "14658d11129c45feae78519b163b4499",
            "fe5d2b3be863488793cc94684599258f",
            "339034bc819044e882f7ac7eab18eec6",
            "43b4830eeaa74d6f821c3c23d9741218",
            "5991cb060496468985f480ca9cf7a667",
            "36efd71c6791465e93c4dae94f711f52",
            "9f1dabb72a7640a09d8f26f089b539d9",
            "d2a01e479a454f6798084645b68705f1",
            "c5c243695ef546fbb37e9524d6b93151",
            "e3165ba6f25942cf843654898efbd4e6"
          ]
        },
        "id": "Q8RvIIOoQPn_",
        "outputId": "ef9171a6-d8ac-4ea6-9afe-10d998c58281"
      },
      "outputs": [
        {
          "name": "stderr",
          "output_type": "stream",
          "text": [
            "2022-07-06 17:53:17 INFO: Installing CoreNLP package into /root/stanza_corenlp\n"
          ]
        },
        {
          "data": {
            "application/vnd.jupyter.widget-view+json": {
              "model_id": "1453133081aa43729e89a6fa45a9edeb",
              "version_major": 2,
              "version_minor": 0
            },
            "text/plain": [
              "Downloading https://huggingface.co/stanfordnlp/CoreNLP/resolve/main/stanford-corenlp-latest.zip:   0%|        …"
            ]
          },
          "metadata": {},
          "output_type": "display_data"
        },
        {
          "name": "stderr",
          "output_type": "stream",
          "text": [
            "2022-07-06 17:53:30 INFO: Writing properties to tmp file: corenlp_server-b58d93ebb60246a8.props\n",
            "2022-07-06 17:53:30 INFO: Starting server with command: java -Xmx4G -cp /root/stanza_corenlp/* edu.stanford.nlp.pipeline.StanfordCoreNLPServer -port 9001 -timeout 60000 -threads 5 -maxCharLength 100000 -quiet True -serverProperties corenlp_server-b58d93ebb60246a8.props -annotators tokenize,ssplit,pos,lemma,ner -preload -outputFormat serialized\n"
          ]
        },
        {
          "name": "stdout",
          "output_type": "stream",
          "text": [
            "<stanza.server.client.CoreNLPClient object at 0x7f1878782dd0>\n"
          ]
        }
      ],
      "source": [
        "#old method step 1: instantiate stanza server\n",
        "import stanza\n",
        "stanza.install_corenlp()\n",
        "\n",
        "from stanza.server import CoreNLPClient\n",
        "client = CoreNLPClient(\n",
        "    annotators=['tokenize','ssplit', 'pos', 'lemma', 'ner'], \n",
        "    memory='4G', \n",
        "    endpoint='http://localhost:9001',\n",
        "    be_quiet=True)\n",
        "print(client)\n",
        "client.start()\n",
        "import time; time.sleep(10)"
      ]
    },
    {
      "cell_type": "code",
      "execution_count": null,
      "metadata": {
        "id": "cUNHVYQX6ySg"
      },
      "outputs": [],
      "source": [
        "#stanza.install_corenlp()"
      ]
    },
    {
      "cell_type": "code",
      "execution_count": null,
      "metadata": {
        "id": "2NHwoFddRnba"
      },
      "outputs": [],
      "source": [
        "# Shut down the background CoreNLP server\n",
        "client.stop()\n",
        "\n",
        "time.sleep(10)\n",
        "!ps -o pid,cmd | grep java"
      ]
    },
    {
      "cell_type": "code",
      "execution_count": null,
      "metadata": {
        "id": "ASsRsuVWqWBh"
      },
      "outputs": [],
      "source": [
        "# def getNeighbors(soup):\n",
        "#   for a in soup.select('a'):\n",
        "    "
      ]
    },
    {
      "cell_type": "code",
      "execution_count": null,
      "metadata": {
        "id": "oHmgfjRThKib"
      },
      "outputs": [],
      "source": [
        "# import requests\n",
        "\n",
        "# from bs4 import BeautifulSoup\n",
        "\n",
        "# def createContacts(soup):\n",
        "#   email_links = soup.select('a[href^=mailto]')\n",
        "\n",
        "#   for elink in email_links:\n",
        "\n",
        "#       # code to see if there are names/positions in the previous siblings\n",
        "\n",
        "#       for tag in elink.previous_siblings:\n",
        "#         find_div = soup.find_all('div', class_= True)\n",
        "\n",
        "\n",
        "#       # code to see if there are names/positions in the next siblings\n",
        "\n",
        "#       for tag in elink.next_siblings:\n",
        "import requests\n",
        "\n",
        "from bs4 import BeautifulSoup\n",
        "\n",
        "import re\n",
        "\n",
        "def createContacts(soup):\n",
        "  email_links = soup.select('a[href^=mailto]')\n",
        "\n",
        "  contact = []\n",
        "  resultListPrev = []\n",
        "  resultListNext = []\n",
        "  for elink in email_links:\n",
        "\n",
        "      # code to see if there are names/positions in the previous siblings\n",
        "\n",
        "      for tag in elink.previous_siblings:\n",
        "        find_div = soup.find_all('div', class_= True)\n",
        "        for div in find_div:\n",
        "            #find first and last name with regex in div text\n",
        "            #if not found, continue\n",
        "\n",
        "            if div.text.find(re.search(\"/^[a-z ,.'-]+$/i\", div.text)) != -1:\n",
        "                name = div.text\n",
        "                #if found, add to dictionary, if not found continue\n",
        "                if name not in contact:\n",
        "                    contact.append(name)\n",
        "                else:\n",
        "                    continue\n",
        "            else:\n",
        "                continue\n",
        "            \n",
        "            #now we find if the previous siblings contain the job titles: \"librarian\" or \"library\" or \"coordinator\" or \"library director\" or \"librarian assistant\" \n",
        "            #if not found, continue to check next siblings\n",
        "            if div.text.find(re.search(\"/^(librarian|library|coordinator|library director|librarian assistant)$/i\", div.text)) != -1:\n",
        "                position = div.text\n",
        "                #if found, add to dictionary, if not found continue\n",
        "                if position not in contact:\n",
        "                    contact.append(position)\n",
        "                else:\n",
        "                    continue\n",
        "\n",
        "            #now we assemble the list of lists of names and positions to be returned\n",
        "            resultListPrev.append(contact)\n",
        "            resultListPrev.append(res.url)\n",
        "            contact = []\n",
        "\n",
        "      # code to see if there are names/positions in the next siblings\n",
        "\n",
        "      for tag in elink.next_siblings:\n",
        "        find_divNext = soup.find_all('div', class_= True)\n",
        "        for div in find_divNext:\n",
        "            #find first and last name with regex in div text\n",
        "            #if not found, continue\n",
        "            if div.get('div') == None:\n",
        "                continue\n",
        "            if div.text.find(re.search(\"/^[a-z ,.'-]+$/i\", div.text)) != -1:\n",
        "                name = div.text\n",
        "                #if found, add to dictionary, if not found continue\n",
        "                if name not in contact:\n",
        "                    contact.append(name)\n",
        "                else:\n",
        "                    continue\n",
        "            else:\n",
        "                continue\n",
        "            \n",
        "            #now we find if the previous siblings contain the job titles: \"librarian\" or \"library\" or \"coordinator\" or \"library director\" or \"librarian assistant\" \n",
        "            #if not found, continue to check next siblings\n",
        "            if div.text.find(re.search(\"/^(librarian|library|coordinator|library director|librarian assistant)$/i\", div.text)) != -1:\n",
        "                position = div.text\n",
        "                #if found, add to dictionary, if not found continue\n",
        "                if position not in contact:\n",
        "                    contact.append(position)\n",
        "                else:\n",
        "                    continue\n",
        "\n",
        "            #now we assemble the list of lists of names and positions to be returned\n",
        "            resultListNext.append(contact)\n",
        "            resultListNext.append(res.url)\n",
        "            contact = []\n",
        "        return resultListPrev, resultListNext"
      ]
    },
    {
      "cell_type": "code",
      "execution_count": null,
      "metadata": {
        "id": "kLU9L0DzQnU2"
      },
      "outputs": [],
      "source": [
        "#Old method step 2\n",
        "\n",
        "def annotateTextinCore(text):\n",
        "  document = client.annotate(text)\n",
        "  #print(type(document))\n",
        "  return document"
      ]
    },
    {
      "cell_type": "code",
      "execution_count": null,
      "metadata": {
        "id": "0ap9R9ONQ0kn"
      },
      "outputs": [],
      "source": [
        "#Success!!!! See Stanza-CoreNLP-Interface.ipynb section 3, alternatively browse NER section\n",
        "#print(\"{:30s}\\t{}\".format(\"Mention\", \"Type\"))\n",
        "\n",
        "#Old method step 3\n",
        "\n",
        "#type(m.entityType)\n",
        "def createNERdict(CoreNLPDocument):\n",
        "  mentionTypeDict = {}\n",
        "  for i, sent in enumerate(document.sentence):\n",
        "      for m in sent.mentions:\n",
        "        mentionTypeDict[m.entityMentionText] = m.entityType\n",
        "        #print(\"{:30s}\\t{}\".format(m.entityMentionText, m.entityType))\n",
        "  return mentionTypeDict"
      ]
    },
    {
      "cell_type": "code",
      "execution_count": null,
      "metadata": {
        "id": "DH-3-t-b3v76"
      },
      "outputs": [],
      "source": [
        "# def getNeighbors(tags, nerDict):\n",
        "#   returnList = []\n",
        "#   for body_child in soup.body.children:\n",
        "#     if isinstance(body_child, NavigableString):\n",
        "#         continue\n",
        "#     if isinstance(body_child, Tag):\n",
        "#         #print(body_child.name)\n",
        "#         for tag in tags:\n",
        "#           for tag in soup.find_all(tag):\n",
        "#             stringTag = tag.string\n",
        "#             if \"librarian\" in stringTag.lower() or \"library\" in stringTag.lower() or \"coordinator\" in stringTag.lower() or \"library director\" in stringTag.lower():\n",
        "#                     if tag.previous_sibling.string in nerDict.keys():\n",
        "#                         if nerDict[tag.previous_sibling.string] == \"PERSON\":\n",
        "#                                 if nerDict[tag.next_sibling.string] == \"EMAIL\":\n",
        "#                                     returnList.append([tag.string, tag.previous_sibling.string, tag.next_sibling.string, res.url])\n",
        "#   return returnList"
      ]
    },
    {
      "cell_type": "code",
      "execution_count": null,
      "metadata": {
        "colab": {
          "base_uri": "https://localhost:8080/"
        },
        "id": "ciPCw-g9SuA9",
        "outputId": "ce93c7d2-6a01-4275-eb77-44359317b3e6"
      },
      "outputs": [
        {
          "name": "stdout",
          "output_type": "stream",
          "text": [
            "{'Hal Bright': 'PERSON', 'Library Director': 'TITLE', 'Library Liaison': 'ORGANIZATION', 'hbright@atsu.edu': 'EMAIL', '480.219.6036': 'NUMBER'}\n"
          ]
        }
      ],
      "source": [
        "#Above command assembles the dictionary\n",
        "# text = 'Nancy Peterson is the Chief Executive Officer of Apple and she can be contacted at npeterson@apple.org. Additionally, her contact is 8889230923.'\n",
        "#text = 'Email: libca@atsu.edu \\n Phone: 805.621.7687 \\n 1075 E Betteravia Rd, Ste 201 \\n Santa Maria, CA 93454 \\n Staff Directory'\n",
        "# text = 'Hal Bright and Bel Hop, MIRLS \\n University Library Director, Library Assistant to ASDOH \\n hbright@atsu.edu \\n 480.219.6036'\n",
        "\n",
        "\n",
        "###EXAMPLE WORKFLOW OF USING STANZA###\n",
        "# text = 'Hal Bright, MIRLS \\n University Library Director, Library Liaison to ASDOH \\n hbright@atsu.edu \\n 480.219.6036'\n",
        "\n",
        "# document = annotateTextinCore(text)\n",
        "# ret = createNERdict(document)\n",
        "# print(ret)"
      ]
    },
    {
      "cell_type": "code",
      "execution_count": null,
      "metadata": {
        "colab": {
          "base_uri": "https://localhost:8080/"
        },
        "id": "WDhvWg2KYARU",
        "outputId": "e1f1ddf2-5819-4712-e4ab-0a84365c8722"
      },
      "outputs": [
        {
          "name": "stdout",
          "output_type": "stream",
          "text": [
            "[['Hal Bright', 'PERSON'], ['Library Director', 'TITLE'], ['hbright@atsu.edu', 'EMAIL']]\n"
          ]
        }
      ],
      "source": [
        "# filtered_dict = {k:v for k,v in ret.items() if \"PERSON\" in v or \"TITLE\" in v or \"EMAIL\" in v}\n",
        "# #print(filtered_dict)\n",
        "# filtered_dict = list(map(list, filtered_dict.items()))\n",
        "# print(filtered_dict)"
      ]
    },
    {
      "cell_type": "code",
      "execution_count": null,
      "metadata": {
        "id": "W6WuZupS35tl"
      },
      "outputs": [],
      "source": [
        "# for pair in filtered_dict:\n",
        "#   pair.append(\"test\")"
      ]
    },
    {
      "cell_type": "code",
      "execution_count": null,
      "metadata": {
        "colab": {
          "base_uri": "https://localhost:8080/"
        },
        "id": "cQEyPwPZvOHS",
        "outputId": "10d35229-0c1d-4766-bfea-f4e016ba981a"
      },
      "outputs": [
        {
          "data": {
            "text/plain": [
              "[['Librarian', 'TITLE'],\n",
              " ['Author', 'TITLE'],\n",
              " ['Physician Assistant\\nDoctor', 'TITLE'],\n",
              " ['Physician Assistant', 'TITLE'],\n",
              " ['libaz@atsu.edu', 'EMAIL'],\n",
              " ['libmo@atsu.edu', 'EMAIL'],\n",
              " ['Student', 'TITLE']]"
            ]
          },
          "execution_count": 7,
          "metadata": {},
          "output_type": "execute_result"
        }
      ],
      "source": [
        "\n",
        "# for pair in filtered_dict:\n",
        "#   if \"librarian\" in pair[0].lower() or \"library\" in pair[0].lower() or \"coordinator\" in pair[0].lower() or \"library director\" in pair[0].lower():\n"
      ]
    },
    {
      "cell_type": "code",
      "execution_count": null,
      "metadata": {
        "id": "jiB19oMonTJy"
      },
      "outputs": [],
      "source": [
        "# def formatCSV(filtered_dict):\n",
        "#   #nice formatting back to dict for CSV\n",
        "#   csvDict = {}\n",
        "#   lists = []\n",
        "#   personList = []\n",
        "#   titleList = []\n",
        "#   emailList = []\n",
        "#   URLList = []\n",
        "#   key = \"Email\"\n",
        "#   for pair in filtered_dict:\n",
        "#     if pair[1] == \"PERSON\":\n",
        "#       personList.append(pair[0])\n",
        "#       if len(personList) == 1 and len(titleList) == 1 and len(emailList) == 1:\n",
        "#         URLList.append(res.url)\n",
        "#         lists.append(personList[0])\n",
        "#         lists.append(titleList[0])\n",
        "#         lists.append(emailList[0])\n",
        "#         lists.append(URLList[0])\n",
        "#       # csvDict[\"Name\"] = pair[0]\n",
        "#       # if \"Name\" in csvDict:\n",
        "#       #   return\n",
        "#     if pair[1] == \"TITLE\":\n",
        "#       titleList.append(pair[0])\n",
        "#       # csvDict[\"Job Title\"] = pair[0]\n",
        "#       # if \"Job Title\" in csvDict:\n",
        "#       #   return\n",
        "#       if len(personList) == 1 and len(titleList) == 1 and len(emailList) == 1:\n",
        "#         URLList.append(res.url)\n",
        "#         lists.append(personList[0])\n",
        "#         lists.append(titleList[0])\n",
        "#         lists.append(emailList[0])\n",
        "#         lists.append(URLList[0])\n",
        "#     if pair[1] == \"EMAIL\":\n",
        "#       emailList.append(pair[0])\n",
        "#       # csvDict[\"Email\"] = pair[0]\n",
        "#       # if \"Email\" in csvDict:\n",
        "#       #   return  \n",
        "#       if len(personList) == 1 and len(titleList) == 1 and len(emailList) == 1:\n",
        "#         URLList.append(res.url)\n",
        "#         lists.append(personList[0])\n",
        "#         lists.append(titleList[0])\n",
        "#         lists.append(emailList[0])\n",
        "#         lists.append(URLList[0])\n",
        "#   return lists"
      ]
    },
    {
      "cell_type": "code",
      "execution_count": null,
      "metadata": {
        "id": "FGd6ZnRctN4O"
      },
      "outputs": [],
      "source": [
        "#good one sliding window for finding person title and email next to each other\n",
        "def formatCSV(filtered_dict):\n",
        "  #nice formatting back to dict for CSV\n",
        "  URLList = []\n",
        "  returnList = []\n",
        "  key = \"Email\"\n",
        "  #URLList.append(res.url)\n",
        "  n = 3\n",
        "  #for i in range(len(filtered_dict)-n+1):\n",
        "  for i in range(len(filtered_dict)-n-1):\n",
        "      batch = filtered_dict[i:i+n]\n",
        "      if batch[i][1] == \"PERSON\" and batch[i+1][1] == \"TITLE\" and batch[i+2][1] == \"EMAIL\":\n",
        "        returnList.append(batch[i][0])\n",
        "        returnList.append(batch[i+1][0])\n",
        "        returnList.append(batch[i+2][0])\n",
        "  return returnList"
      ]
    },
    {
      "cell_type": "code",
      "execution_count": null,
      "metadata": {
        "colab": {
          "base_uri": "https://localhost:8080/",
          "height": 130
        },
        "id": "DLrWpKZzZSln",
        "outputId": "e8dc2192-8bbb-45c5-b63e-3ee0b880715a"
      },
      "outputs": [
        {
          "ename": "SyntaxError",
          "evalue": "ignored",
          "output_type": "error",
          "traceback": [
            "\u001b[0;36m  File \u001b[0;32m\"<ipython-input-8-290bcfd4fce8>\"\u001b[0;36m, line \u001b[0;32m4\u001b[0m\n\u001b[0;31m    \u001b[0m\n\u001b[0m    ^\u001b[0m\n\u001b[0;31mSyntaxError\u001b[0m\u001b[0;31m:\u001b[0m unexpected EOF while parsing\n"
          ]
        }
      ],
      "source": [
        "def parseSoup(soup):\n",
        "  for email in soup.find_all('a', \n",
        "                            attrs={'href': re.compile(\"[a-zA-Z0-9_.+-]+@[a-zA-Z0-9-]+\\.[a-zA-Z0-9-.]+\")}):\n",
        "    "
      ]
    },
    {
      "cell_type": "code",
      "execution_count": null,
      "metadata": {
        "colab": {
          "base_uri": "https://localhost:8080/"
        },
        "id": "AYQ_DDoWn0HS",
        "outputId": "334157ef-e3d7-4f77-b2b4-f690d308f24b"
      },
      "outputs": [
        {
          "data": {
            "text/plain": [
              "[]"
            ]
          },
          "execution_count": 29,
          "metadata": {},
          "output_type": "execute_result"
        }
      ],
      "source": [
        "# test = formatCSV(filtered_dict)\n",
        "# test\n",
        "#test[0][i][1]"
      ]
    },
    {
      "cell_type": "code",
      "execution_count": null,
      "metadata": {
        "colab": {
          "base_uri": "https://localhost:8080/",
          "height": 35
        },
        "id": "jiDKwyVqt9sY",
        "outputId": "2edb4816-c56c-42d4-8803-00b3cac3b101"
      },
      "outputs": [
        {
          "data": {
            "application/vnd.google.colaboratory.intrinsic+json": {
              "type": "string"
            },
            "text/plain": [
              "'PERSON'"
            ]
          },
          "execution_count": 31,
          "metadata": {},
          "output_type": "execute_result"
        }
      ],
      "source": [
        "# filtered_dict[0][1]"
      ]
    },
    {
      "cell_type": "code",
      "execution_count": null,
      "metadata": {
        "id": "2BvlblXxgyEW"
      },
      "outputs": [],
      "source": [
        "csvDict = {}"
      ]
    },
    {
      "cell_type": "code",
      "execution_count": null,
      "metadata": {
        "id": "4_qe-G74cvKf"
      },
      "outputs": [],
      "source": [
        "# csvDict = {}\n",
        "# for pair in filtered_dict:\n",
        "#   if pair[1] == \"PERSON\":\n",
        "#     csvDict.update({\"Name\": pair[0]})\n",
        "#   if pair[1] == \"TITLE\":\n",
        "#     csvDict.update({\"Job Title\": pair[0]})\n",
        "#   if pair[1] == \"EMAIL\":\n",
        "#     csvDict.update({\"Email\": pair[0]})"
      ]
    },
    {
      "cell_type": "code",
      "execution_count": null,
      "metadata": {
        "colab": {
          "base_uri": "https://localhost:8080/"
        },
        "id": "kwTIDh9YeAYd",
        "outputId": "f6c49355-83a3-4c92-9ee1-026493cff87d"
      },
      "outputs": [
        {
          "name": "stdout",
          "output_type": "stream",
          "text": [
            "{'Name': 'Hal Bright', 'Job Title': 'Library Director', 'Email': 'hbright@atsu.edu'}\n"
          ]
        }
      ],
      "source": [
        "# print(csvDict)"
      ]
    },
    {
      "cell_type": "code",
      "execution_count": null,
      "metadata": {
        "id": "qmQ05jIVgfwi"
      },
      "outputs": [],
      "source": [
        "# header_added = False\n",
        "# #create headers for CSV\n",
        "# field_names = ['Name', 'Job Title', 'Email']\n",
        "\n",
        "# # NERtagList.append(NERdictForThisURL)\n",
        "\n",
        "# #create CSV\n",
        "# with open('output.csv', 'a', newline = '') as f:\n",
        "#   writer = csv.DictWriter(f, fieldnames=field_names)\n",
        "#   if not header_added:\n",
        "#     writer.writeheader()\n",
        "#     header_added = True\n",
        "#   writer.writerow(csvDict)"
      ]
    },
    {
      "cell_type": "code",
      "execution_count": null,
      "metadata": {
        "id": "nY1ZJY-Z8DVB"
      },
      "outputs": [],
      "source": [
        "# with CoreNLPClient(\n",
        "#         annotators=['tokenize','ssplit','pos','lemma','ner', 'parse', 'depparse'],\n",
        "#         timeout=30000,\n",
        "#         memory='16G') as client:\n",
        "\n",
        "#     # Use tokensregex patterns to find who wrote a sentence.\n",
        "#     # pattern = '([ner: PERSON]+) /wrote/ /an?/ []{0,3} /sentence|article/'\n",
        "#     pattern = '([ner: PERSON]+) ([ner: TITLE]+) ([ner: EMAIL]+)'\n",
        "#     matches = client.tokensregex(text, pattern)\n",
        "#     # sentences contains a list with matches for each sentence.\n",
        "#     print(len(matches[\"sentences\"])) # prints: 3\n",
        "#     # length tells you whether or not there are any matches in this\n",
        "#     print(matches[\"sentences\"][1][\"length\"]) # prints: 1\n",
        "#     # You can access matches like most regex groups.\n",
        "#     print(matches[\"sentences\"][1][\"0\"][\"text\"]) # prints: \"Chris wrote a simple sentence\"\n",
        "#     print(matches[\"sentences\"][1][\"0\"][\"1\"][\"text\"]) # prints: \"Chris\""
      ]
    },
    {
      "cell_type": "code",
      "execution_count": null,
      "metadata": {
        "id": "kcf-RXrXCND5"
      },
      "outputs": [],
      "source": [
        "# # # -*- coding: utf-8 -*-\n",
        "\n",
        "# # #need stanford-ner-2020-11-17 folder; mount drive and find it in data folder\n",
        "# # #import nltk\n",
        "# # #nltk.download('punkt')\n",
        "\n",
        "# import nltk\n",
        "# nltk.download('punkt')\n",
        "# # from nltk.tag import StanfordNERTagger\n",
        "# # from nltk.tokenize import word_tokenize\n",
        "\n",
        "# # def NERTag(text):\n",
        "# #   stanford_dir = '/content/drive/MyDrive/PythonScripts/EmailPhoneScrape/data/stanford-ner-2020-11-17'\n",
        "# #   jarfile = stanford_dir + '/stanford-ner-4.2.0.jar'\n",
        "# #   modelfile = stanford_dir + '/classifiers/english.muc.7class.distsim.crf.ser.gz'\n",
        "\n",
        "# #   st = StanfordNERTagger(model_filename=modelfile, path_to_jar=jarfile,\n",
        "# # \t\t\t\t\t   encoding='utf-8')\n",
        "  \n",
        "# #   tokenized_text = word_tokenize(text)\n",
        "# #   classified_text = st.tag(tokenized_text)\n",
        "\n",
        "# #   return classified_text\n"
      ]
    },
    {
      "cell_type": "code",
      "execution_count": null,
      "metadata": {
        "id": "dchiF6buCeTk"
      },
      "outputs": [],
      "source": [
        "# NERTag(text = 'Nancy Peterson is the Chief Executive Officer of Apple and she can be contacted at npeterson@apple.org')"
      ]
    },
    {
      "cell_type": "code",
      "execution_count": null,
      "metadata": {
        "id": "39skckP_SfCu"
      },
      "outputs": [],
      "source": [
        "# #!pip install stanza\n",
        "# #https://stanfordnlp.github.io/stanza/\n",
        "# import stanza\n",
        "# stanza.download('en')\n",
        "# nlp = stanza.Pipeline('en')\n",
        "# doc = nlp('Nancy Peterson is the Chief Executive Officer of Apple and she can be contacted at npeterson@apple.org')"
      ]
    },
    {
      "cell_type": "code",
      "execution_count": null,
      "metadata": {
        "id": "grb-f5EGTBfF"
      },
      "outputs": [],
      "source": [
        "# print(*[f'entity: {ent.text}\\ttype: {ent.type}' for sent in doc.sentences for ent in sent.ents], sep='\\n')"
      ]
    },
    {
      "cell_type": "code",
      "execution_count": null,
      "metadata": {
        "id": "n6Tqm-03WMWl"
      },
      "outputs": [],
      "source": [
        "# import spacy\n",
        "# from spacy import displacy\n",
        "# import en_core_web_sm\n",
        "# from pprint import pprint"
      ]
    },
    {
      "cell_type": "code",
      "execution_count": null,
      "metadata": {
        "id": "rnMcS7IQ8qdi"
      },
      "outputs": [],
      "source": [
        "# !pip install -U pip setuptools wheel\n",
        "# !pip install -U spacy\n",
        "# !python -m spacy download en_core_web_sm"
      ]
    },
    {
      "cell_type": "code",
      "execution_count": null,
      "metadata": {
        "id": "OUM6zgzoWPqC"
      },
      "outputs": [],
      "source": [
        "# nlp = spacy.load('en_core_web_sm')\n",
        "# #print(nlp.pipe_names)\n",
        "# text = 'Nancy Peterson is the Chief Executive Officer of Apple and she can be contacted at npeterson@apple.org'\n",
        "# entities = nlp('Nancy Peterson is the Chief Executive Officer of Apple and she can be contacted at npeterson@apple.org.')\n",
        "# for ent in entities.ents:\n",
        "#   print(ent.text, ent.label_)"
      ]
    },
    {
      "cell_type": "code",
      "execution_count": null,
      "metadata": {
        "id": "Yn3EhGDAWtqf"
      },
      "outputs": [],
      "source": [
        "# pprint([(X, X.ent_iob_, X.ent_type_) for X in entities] )"
      ]
    },
    {
      "cell_type": "code",
      "execution_count": null,
      "metadata": {
        "id": "4Khyp0H7ByDZ"
      },
      "outputs": [],
      "source": [
        "# def sepSentencesFromHTML(queryHTML):\n",
        "#   soup = BeautifulSoup(queryHTML)\n",
        "#   text = soup.get_text()\n",
        "#   #sentence creator; sentences[0] is first sentence\n",
        "#   return text"
      ]
    },
    {
      "cell_type": "code",
      "execution_count": null,
      "metadata": {
        "id": "FeMxEl8VD585"
      },
      "outputs": [],
      "source": [
        "# def getEntities(text):\n",
        "#   ents = []\n",
        "#   #for each sentence, the ith element of ents is the i+1th sentence's entities\n",
        "#   sentences = list(text.sents)\n",
        "#   for sentence in sentences:\n",
        "#     entities = list(sentence.ents)\n",
        "#     ents.append(entities)\n",
        "#   return ents"
      ]
    },
    {
      "cell_type": "code",
      "execution_count": null,
      "metadata": {
        "id": "2WguydSzE5kT"
      },
      "outputs": [],
      "source": [
        "# nlp = spacy.load(\"en_core_web_sm\")\n",
        "# doc = nlp(text)\n",
        "# sentences = list(doc.sents)\n",
        "# sentence = (sentences[0])\n",
        "# ents = list(sentence.ents)"
      ]
    },
    {
      "cell_type": "code",
      "execution_count": null,
      "metadata": {
        "id": "0EAQrTYCGujp"
      },
      "outputs": [],
      "source": [
        "# print(ents)\n",
        "# print(ents[0].label)\n",
        "# print(ents[0].label_)\n",
        "# print(ents[0].text)"
      ]
    },
    {
      "cell_type": "code",
      "execution_count": null,
      "metadata": {
        "id": "M0721Lr8HDDX"
      },
      "outputs": [],
      "source": [
        "# people = []\n",
        "# for ent in ents:\n",
        "#   if ent.label_ == \"PERSON\":\n",
        "#     people.append(ent)\n",
        "# print(people)"
      ]
    },
    {
      "cell_type": "code",
      "execution_count": null,
      "metadata": {
        "id": "OgJSMtzRH-kV"
      },
      "outputs": [],
      "source": [
        "# import spacy\n",
        "# nlp = spacy.blank(\"en\")"
      ]
    },
    {
      "cell_type": "code",
      "execution_count": null,
      "metadata": {
        "id": "e_g8Sk02fHH9"
      },
      "outputs": [],
      "source": [
        "# df = pd.read_csv(\"OccupationData.csv\")\n",
        "# df"
      ]
    },
    {
      "cell_type": "code",
      "execution_count": null,
      "metadata": {
        "id": "3yBMqA_mfT1c"
      },
      "outputs": [],
      "source": [
        "# document = []\n",
        "# for row in df['Title'].index:\n",
        "#   desc = df['Description'][row]\n",
        "#   descRes = desc[0].lower() + desc[1:]\n",
        "#   doc = df['Title'][row] + \" \" + descRes\n",
        "#   document.append(doc)\n",
        "# df['Document'] = document"
      ]
    },
    {
      "cell_type": "code",
      "execution_count": null,
      "metadata": {
        "id": "wFbd9iIOh1Qr"
      },
      "outputs": [],
      "source": [
        "# def trainDataMaker(data):\n",
        "#   titleList = []\n",
        "#   docTup = ()\n",
        "#   entValEmpty = ()\n",
        "#   entValTemp = ()\n",
        "#   res = []\n",
        "#   label = \"JOBTITLE\"\n",
        "#   entities = {}\n",
        "#   for i in data['Document'].index:\n",
        "#     titleList.append(data['Title'][i])\n",
        "#     entitiesBegin = 0\n",
        "#     entitiesEnd = data['Document'][i].rindex(data['Title'][i])\n",
        "#     entValTemp = entValTemp + (entitiesBegin,)\n",
        "#     entValTemp = entValTemp + (entitiesEnd,)\n",
        "#     entValTemp = entValTemp + (label,)\n",
        "#     entities[\"entities\"] = [entValTemp]\n",
        "#     entValTemp = entValEmpty\n",
        "#     docTup = docTup + (data['Document'][i],)\n",
        "#     docTup = docTup + (entities,)\n",
        "#     res.append(docTup)\n",
        "#   return res\n"
      ]
    },
    {
      "cell_type": "code",
      "execution_count": null,
      "metadata": {
        "id": "OaK2JS-KjFCm"
      },
      "outputs": [],
      "source": [
        "# titleList = []\n",
        "# docTup = ()\n",
        "# entValEmpty = ()\n",
        "# entValTemp = ()\n",
        "# res = []\n",
        "# label = \"JOBTITLE\"\n",
        "# entities  {}\n",
        "# for i in df['Title']:\n",
        "#     titleList.append(i)\n",
        "#     entitiesBegin = 0\n",
        "#     entitiesEnd = len(i) - 1\n",
        "#     entValTemp = entValTemp + (entitiesBegin,)\n",
        "#     entValTemp = entValTemp + (entitiesEnd,)\n",
        "#     entValTemp = entValTemp + (label,)\n",
        "#     entities[\"entities\"] = [entValTemp]\n",
        "#     entValTemp = entValEmpty\n",
        "#     docTup = docTup + (df['Document'][i],)\n",
        "#     docTup = docTup + (entities,)\n",
        "#     res.append(docTup)"
      ]
    },
    {
      "cell_type": "code",
      "execution_count": null,
      "metadata": {
        "id": "AgZf-4OMmATF"
      },
      "outputs": [],
      "source": [
        "# TRAIN_DATA = trainDataMaker(df)"
      ]
    },
    {
      "cell_type": "code",
      "execution_count": null,
      "metadata": {
        "id": "mCaAzwOE7KJK"
      },
      "outputs": [],
      "source": [
        "# #!pip install -U spacy\n",
        "# from typing import Callable, Iterable, Iterator, List\n",
        "# import spacy\n",
        "# from spacy.training import Example\n",
        "\n",
        "# def filter_batch(size: int) -> Callable[[Iterable[Example]], Iterator[List[Example]]]:\n",
        "#     def create_filtered_batches(examples):\n",
        "#         batch = []\n",
        "#         for eg in examples:\n",
        "#             # Remove duplicate examples with the same text from batch\n",
        "#             if eg.text not in [x.text for x in batch]:\n",
        "#                 batch.append(eg)\n",
        "#             if len(batch) == size:\n",
        "#                 yield batch\n",
        "#                 batch = []\n",
        "\n",
        "#     return create_filtered_batches"
      ]
    },
    {
      "cell_type": "code",
      "execution_count": null,
      "metadata": {
        "id": "SCBds85_erOe"
      },
      "outputs": [],
      "source": [
        "# LABEL = \"JOBTITLE\"\n",
        "\n",
        "# nlp = spacy.blank(\"en\")  # create blank Language class\n",
        "# ner = nlp.create_pipe(\"ner\")\n",
        "# nlp.add_pipe(ner)\n",
        "\n",
        "# ner.add_label(LABEL)  # add new entity label to entity recognizer\n",
        "\n",
        "# optimizer = nlp.begin_training()\n",
        "\n",
        "# move_names = list(ner.move_names)\n",
        "# # get names of other pipes to disable them during training\n",
        "# other_pipes = [pipe for pipe in nlp.pipe_names if pipe != \"ner\"]\n",
        "\n",
        "# with nlp.disable_pipes(*other_pipes):  # only train NER\n",
        "#     sizes = spacy.util.compounding(1.0, 4.0, 1.001)\n",
        "#     # batch up the examples using spaCy's minibatch\n",
        "#     n_iter = 100\n",
        "#     for itn in range(n_iter):\n",
        "#         random.shuffle(TRAIN_DATA)\n",
        "#         batches = minibatch(TRAIN_DATA, size=sizes)\n",
        "#         losses = {}\n",
        "#         for batch in batches:\n",
        "#             texts, annotations = zip(*batch)\n",
        "#             nlp.update(texts, annotations, sgd=optimizer, drop=0.35, losses=losses)\n",
        "#         print(\"Losses\", losses)"
      ]
    },
    {
      "cell_type": "code",
      "execution_count": null,
      "metadata": {
        "colab": {
          "base_uri": "https://localhost:8080/"
        },
        "id": "vECH7ouTZD6-",
        "outputId": "e538e61a-3cae-4f1e-f4ed-0b1a9c0e8ce6"
      },
      "outputs": [
        {
          "name": "stdout",
          "output_type": "stream",
          "text": [
            "Looking in indexes: https://pypi.org/simple, https://us-python.pkg.dev/colab-wheels/public/simple/\n",
            "Collecting tld\n",
            "  Downloading tld-0.12.6-py37-none-any.whl (412 kB)\n",
            "\u001b[K     |████████████████████████████████| 412 kB 7.5 MB/s \n",
            "\u001b[?25hInstalling collected packages: tld\n",
            "Successfully installed tld-0.12.6\n"
          ]
        }
      ],
      "source": [
        "# !pip install tld"
      ]
    },
    {
      "cell_type": "code",
      "execution_count": null,
      "metadata": {
        "id": "kpdGSRMO_SUt"
      },
      "outputs": [],
      "source": [
        "#from bs4 import NavigableString, Tag"
      ]
    },
    {
      "cell_type": "code",
      "execution_count": null,
      "metadata": {
        "colab": {
          "base_uri": "https://localhost:8080/",
          "height": 426
        },
        "id": "IjMCCIXjBVn_",
        "outputId": "2c792645-e22f-487a-ffd4-834145274708"
      },
      "outputs": [
        {
          "name": "stdout",
          "output_type": "stream",
          "text": [
            "Type Y/N whether you want to start processing queries: y\n",
            "Type Y/N whether you want to start processing queries: n\n",
            "URLs and Results written to .txt and .csv...\n",
            "searched home url:  https://www.atsu.edu/library/about-us\n"
          ]
        },
        {
          "ename": "TypeError",
          "evalue": "ignored",
          "output_type": "error",
          "traceback": [
            "\u001b[0;31m---------------------------------------------------------------------------\u001b[0m",
            "\u001b[0;31mTypeError\u001b[0m                                 Traceback (most recent call last)",
            "\u001b[0;32m<ipython-input-7-10e3dd8c39f6>\u001b[0m in \u001b[0;36m<module>\u001b[0;34m()\u001b[0m\n\u001b[1;32m    102\u001b[0m     \u001b[0msoup\u001b[0m \u001b[0;34m=\u001b[0m \u001b[0mBeautifulSoup\u001b[0m\u001b[0;34m(\u001b[0m\u001b[0mresText\u001b[0m\u001b[0;34m,\u001b[0m \u001b[0;34m'html.parser'\u001b[0m\u001b[0;34m)\u001b[0m\u001b[0;34m\u001b[0m\u001b[0;34m\u001b[0m\u001b[0m\n\u001b[1;32m    103\u001b[0m \u001b[0;34m\u001b[0m\u001b[0m\n\u001b[0;32m--> 104\u001b[0;31m     \u001b[0mresultListPrev\u001b[0m\u001b[0;34m,\u001b[0m \u001b[0mresultListNext\u001b[0m \u001b[0;34m=\u001b[0m \u001b[0mcreateContacts\u001b[0m\u001b[0;34m(\u001b[0m\u001b[0msoup\u001b[0m\u001b[0;34m)\u001b[0m\u001b[0;34m\u001b[0m\u001b[0;34m\u001b[0m\u001b[0m\n\u001b[0m\u001b[1;32m    105\u001b[0m \u001b[0;34m\u001b[0m\u001b[0m\n\u001b[1;32m    106\u001b[0m     \u001b[0;31m# HTMLtags = [tag.name for tag in soup.find_all()]\u001b[0m\u001b[0;34m\u001b[0m\u001b[0;34m\u001b[0m\u001b[0;34m\u001b[0m\u001b[0m\n",
            "\u001b[0;32m<ipython-input-6-927c38c4cdd8>\u001b[0m in \u001b[0;36mcreateContacts\u001b[0;34m(soup)\u001b[0m\n\u001b[1;32m     39\u001b[0m             \u001b[0;31m#if not found, continue\u001b[0m\u001b[0;34m\u001b[0m\u001b[0;34m\u001b[0m\u001b[0;34m\u001b[0m\u001b[0m\n\u001b[1;32m     40\u001b[0m \u001b[0;34m\u001b[0m\u001b[0m\n\u001b[0;32m---> 41\u001b[0;31m             \u001b[0;32mif\u001b[0m \u001b[0mdiv\u001b[0m\u001b[0;34m.\u001b[0m\u001b[0mtext\u001b[0m\u001b[0;34m.\u001b[0m\u001b[0mfind\u001b[0m\u001b[0;34m(\u001b[0m\u001b[0mre\u001b[0m\u001b[0;34m.\u001b[0m\u001b[0msearch\u001b[0m\u001b[0;34m(\u001b[0m\u001b[0;34m\"/^[a-z ,.'-]+$/i\"\u001b[0m\u001b[0;34m,\u001b[0m \u001b[0mdiv\u001b[0m\u001b[0;34m.\u001b[0m\u001b[0mtext\u001b[0m\u001b[0;34m)\u001b[0m\u001b[0;34m)\u001b[0m \u001b[0;34m!=\u001b[0m \u001b[0;34m-\u001b[0m\u001b[0;36m1\u001b[0m\u001b[0;34m:\u001b[0m\u001b[0;34m\u001b[0m\u001b[0;34m\u001b[0m\u001b[0m\n\u001b[0m\u001b[1;32m     42\u001b[0m                 \u001b[0mname\u001b[0m \u001b[0;34m=\u001b[0m \u001b[0mdiv\u001b[0m\u001b[0;34m.\u001b[0m\u001b[0mtext\u001b[0m\u001b[0;34m\u001b[0m\u001b[0;34m\u001b[0m\u001b[0m\n\u001b[1;32m     43\u001b[0m                 \u001b[0;31m#if found, add to dictionary, if not found continue\u001b[0m\u001b[0;34m\u001b[0m\u001b[0;34m\u001b[0m\u001b[0;34m\u001b[0m\u001b[0m\n",
            "\u001b[0;31mTypeError\u001b[0m: must be str, not NoneType"
          ]
        }
      ],
      "source": [
        "#####This is the \"giant 'while' loop\"##########\n",
        "\n",
        "#!pip install tld #(sometimes necessary)\n",
        "from tld import get_tld\n",
        "import requests\n",
        "import re\n",
        "import csv\n",
        "import json\n",
        "import pandas as pd\n",
        "from bs4 import BeautifulSoup\n",
        "from bs4 import NavigableString, Tag \n",
        "from googlesearch import search\n",
        "from numpy import random\n",
        "import time\n",
        "\n",
        "#how to use old method:\n",
        "#***Make sure corenlp_server is running\n",
        "#1. create empty text file called \"web_urls.txt\" for storage\n",
        "#2. put the queries_good.txt in files folder\n",
        "#3. run, type \"y\", then \"n\"\n",
        "#4. save output.csv to local computer or drive\n",
        "\n",
        "#how to use new method:\n",
        "#1. create empty text file called \"web_urls.txt\" for storage\n",
        "#2. put the queries_good.txt in files folder\n",
        "#3. run defined methods that allows for scraping contact HTML (WIP)\n",
        "#4. run, type \"y\", then \"n\"\n",
        "#5. save output.csv to local computer or drive\n",
        "\n",
        "\n",
        "\n",
        "search_list = []   \n",
        "#make sure to create a new file web_urls.txt in files, and to take it out when finished along with CSV\n",
        "f = open(\"web_urls.txt\", \"r+\")\n",
        "q = open(\"queries_good.txt\", \"r+\")\n",
        "\n",
        "\n",
        "#absolute file positioning \n",
        "f.seek(0)  \n",
        "q.seek(0)\n",
        "  \n",
        "#erase all data  \n",
        "f.truncate()\n",
        "\n",
        "k = 0\n",
        "m=True\n",
        "while(m):\n",
        "        s=input('Type Y/N whether you want to start processing queries: ')\n",
        "        if(s=='Y'.lower() or s == \"Y\"):\n",
        "            with q as file:\n",
        "              query = file.readline()\n",
        "            search_list.append(query)\n",
        "            file = open(\"web_urls.txt\", \"a\")\n",
        "            for o in search(query, tld=\"com\", num=3, stop=3, pause=2): \n",
        "                url_site=o\n",
        "                file.write(url_site)\n",
        "                file.write('\\n')\n",
        "        if(s=='N'.lower() or s == \"N\"):\n",
        "            m=False \n",
        "            print('URLs and Results written to .txt and .csv...')\n",
        "            file.close()\n",
        "\n",
        "#remove duplicates\n",
        "\n",
        "def remove_dup_email(x):\n",
        "  return list(dict.fromkeys(x))\n",
        "\n",
        "# def remove_dup_phone(x):\n",
        "#   return list(dict.fromkeys(x))\n",
        "\n",
        "# def get_email(html):\n",
        "#     try:\n",
        "#         email = re.findall(\"[A-Za-z0-9._%+-]+@[A-Za-z0-9.-]+\\.[A-Za-z]{2,3}\",html)\n",
        "#         nodup_email = remove_dup_email(email)\n",
        "#         return nodup_email\n",
        "#     except:\n",
        "#         pass\n",
        "\n",
        "# def get_phone(html):\n",
        "#     try:\n",
        "#         #phone = re.findall(r\"(\\d{2} \\d{3,4} \\d{3,4})\", html)\n",
        "#         #phone1= re.findall(r\"((?:\\d{2,3}|\\(\\d{2,3}\\))?(?:\\s|-|\\.)?\\d{3,4}(?:\\s|-|\\.)\\d{4})\",html)\n",
        "#         phone1= re.findall(r\"(\\d{3}[-\\.\\s]??\\d{3}[-\\.\\s]??\\d{4}|\\(\\d{3}\\)\\s*\\d{3}[-\\.\\s]??\\d{4}|\\d{3}[-\\.\\s]??\\d{4})\",html)\n",
        "#         #for p in phone1:\n",
        "#         #     phone.append(p)\n",
        "#         nodup_phone = remove_dup_phone(phone1)\n",
        "#         return nodup_phone\n",
        "#     except:\n",
        "#         pass\n",
        "\n",
        "#helper function to help find name, position, and email\n",
        "\n",
        "urls = ''\n",
        "\n",
        "\n",
        "with open('web_urls.txt', 'r') as f:\n",
        "    for line in f.read():\n",
        "        urls +=line\n",
        "\n",
        "        \n",
        "urls = list(filter(None, urls.split('\\n')))\n",
        "\n",
        "\n",
        "header_added = False\n",
        "csvContactList = []\n",
        "for url in urls:\n",
        "  if \"library\" in url or \"libraries\" in url or \"lib.\" in url:\n",
        "    sleeptime = random.uniform(2,4)\n",
        "    time.sleep(sleeptime)  \n",
        "    res = requests.get(url)\n",
        "    resText = res.text\n",
        "    print('searched home url: ', res.url) \n",
        "\n",
        "    info = BeautifulSoup(res.text, 'lxml')\n",
        "    soup = BeautifulSoup(resText, 'html.parser')\n",
        "\n",
        "    resultListPrev, resultListNext = createContacts(soup)\n",
        "\n",
        "    # HTMLtags = [tag.name for tag in soup.find_all()]\n",
        "    # # NERtagList = []\n",
        "    \n",
        "    # #get text from URL HTML\n",
        "    # # text = info.get_text()\n",
        "    # text = soup.get_text()\n",
        "\n",
        "    # #annotate text in CoreNLP: make sure the server is running and it's only the one corenlp_server in the files\n",
        "    # document = annotateTextinCore(text)\n",
        "\n",
        "    # #create NER dict for this URL\n",
        "    # NERdictForThisURL = createNERdict(document)\n",
        "\n",
        "    # #create filtered dict\n",
        "    # filtered_dict = {k:v for k,v in NERdictForThisURL.items() if \"PERSON\" in v or \"TITLE\" in v or \"EMAIL\" in v}\n",
        "\n",
        "    # # returnList = getNeighbors(HTMLtags, filtered_dict)\n",
        "  \n",
        "    # # csvContactList.append(returnList)\n",
        "\n",
        "    # #find contacts using person, title, email or person email title order in dict\n",
        "    # # contactDict = getContactsFromTextWindow(NERdictForThisURL)\n",
        "\n",
        "    # # NERtagList.append(NERdictForThisURL)\n",
        "\n",
        "    # # with open(\"output.csv\", \"a\") as f:\n",
        "    # #   writer = csv.writer(f)\n",
        "    # #   writer.writerows(contactDict)\n",
        "\n",
        "    # #convert dict to list of lists for CSV\n",
        "    # filtered_dict = list(map(list, filtered_dict.items()))\n",
        "\n",
        "    # #add URL from which the text and tag came\n",
        "    # for pair in filtered_dict:\n",
        "    #   pair.append(res.url)\n",
        "\n",
        "    #do some formatting for csv\n",
        "    # listContact = formatCSV(filtered_dict)\n",
        "  \n",
        "    #create headers for CSV\n",
        "    field_names = ['Name', 'Title', 'URL']\n",
        "\n",
        "    # NERtagList.append(NERdictForThisURL)\n",
        "    \n",
        "    #create CSV - don't forget to save to local! (or to drive folder)\n",
        "    with open('output1.csv', 'a', newline = '') as f:\n",
        "      writer = csv.writer(f)\n",
        "      if not header_added:\n",
        "        writer.writerow(field_names)\n",
        "        header_added = True\n",
        "      writer.writerows(resultListPrev)\n",
        "\n",
        "    with open('output1.csv', 'a', newline = '') as f:\n",
        "      writer = csv.writer(f)\n",
        "      if not header_added:\n",
        "        writer.writerow(field_names)\n",
        "        header_added = True\n",
        "      writer.writerows(resultListNext)\n",
        "      \n",
        "\n",
        "    # with open('contact_info.txt', 'a') as f:\n",
        "    #   for key, value in filtered_dict.items():\n",
        "    #     f.write('%s: %s, URL: %s\\n' % (key, value, res.url))\n",
        "\n",
        "\n",
        "    # emails_home = get_email(info.get_text())\n",
        "    # # phones_home = get_phone(info.get_text())\n",
        "\n",
        "    # emails_f = emails_home\n",
        "    # # phones_f = phones_home\n",
        "\n",
        "    # #contacts_f = {'Main Website':res.url,'Name':,'Position': ,'Email':emails_f}\n",
        "    # contacts_f = {'Main Website':res.url,'Email':emails_f}\n",
        "    # k=k+1\n",
        "\n",
        "\n",
        "    # try:\n",
        "    #     contact = info.find('a', text = re.compile('contact', re.IGNORECASE))['href']\n",
        "    #     if 'http' in contact:\n",
        "    #         contact_url = contact\n",
        "    #     else:\n",
        "    #         contact_url = res.url[0:-1] + contact\n",
        "\n",
        "        \n",
        "    #     res_contact = requests.get(contact_url)\n",
        "\n",
        "    #     contact_info = BeautifulSoup(res_contact.text, 'lxml').get_text()\n",
        "\n",
        "\n",
        "    #     print('searched contact url:', res_contact.url)\n",
        "\n",
        "    #     # extract contact data\n",
        "        \n",
        "    #     emails_contact = get_email(contact_info)\n",
        "    #     # phones_contact = get_phone(contact_info)\n",
        "\n",
        "    #     #combining email contacts and email home into a single list\n",
        "\n",
        "    #     emails_f = emails_home\n",
        "\n",
        "    #     for ele1 in emails_contact:\n",
        "    #         emails_f.append(ele1)\n",
        "\n",
        "    #     #combining phone contacts and phone contacts into a single list\n",
        "    \n",
        "    #     # phones_f = phones_home\n",
        "\n",
        "    #     # for ele2 in phones_contact:\n",
        "    #     #     phones_f.append(ele2)\n",
        "        \n",
        "    # except:\n",
        "    #     pass\n",
        "\n",
        "\n",
        "            \n",
        "    # # removing duplicates\n",
        "\n",
        "    # emails_f = remove_dup_email(emails_f)\n",
        "    # # phones_f = remove_dup_email(phones_f)\n",
        "\n",
        "    # contacts_f['Home URL'] = res.url\n",
        "    # contacts_f['Email']= emails_f\n",
        "    # # contacts_f['Phone']= phones_f\n",
        "\n",
        "    # # converting into a data set\n",
        "    \n",
        "    # print('\\n', json.dumps(contacts_f, indent=2))\n",
        "\n",
        "    # # dumping the data into the csv file\n",
        "\n",
        "    # with open('contact_info.csv', 'a') as f:\n",
        "\n",
        "    #     #create csv writer object\n",
        "\n",
        "    #     writer = csv.DictWriter(f, fieldnames=contacts_f.keys())\n",
        "\n",
        "    #     #writer.writeheader()\n",
        "\n",
        "    #     writer.writerow(contacts_f)"
      ]
    },
    {
      "cell_type": "code",
      "execution_count": 4,
      "metadata": {
        "id": "rdlGauPSp7Eg"
      },
      "outputs": [],
      "source": [
        "import pandas as pd\n",
        "\n",
        "dataOutput = pd.read_csv(\"output.csv\")"
      ]
    },
    {
      "cell_type": "code",
      "execution_count": null,
      "metadata": {
        "id": "D6wOlOXqqMUF"
      },
      "outputs": [],
      "source": [
        "#post-processing for NER method\n",
        "res = []\n",
        "contact = []\n",
        "for i, row in dataOutput.iterrows():\n",
        "  if dataOutput[\"Tag\"][i] == \"EMAIL\":\n",
        "    if dataOutput[\"Tag\"][i-2] == \"PERSON\" and dataOutput[\"Tag\"][i-1] == \"TITLE\" and dataOutput[\"Tag\"][i-3] != \"PERSON\":\n",
        "      contact.append(dataOutput[\"Text\"][i-2])\n",
        "      contact.append(dataOutput[\"Text\"][i-1])\n",
        "      contact.append(dataOutput[\"Text\"][i])\n",
        "      res.append(contact)\n",
        "      contact = []\n",
        "    if dataOutput[\"Tag\"][i-2] == \"PERSON\" and dataOutput[\"Tag\"][i-1] == \"TITLE\" and dataOutput[\"Tag\"][i-3] == \"PERSON\":\n",
        "      fullName = dataOutput[\"Text\"][i-3] + \" \" + dataOutput[\"Text\"][i-2]\n",
        "      contact.append(fullName)\n",
        "      contact.append(dataOutput[\"Text\"][i-1])\n",
        "      contact.append(dataOutput[\"Text\"][i])\n",
        "      res.append(contact)\n",
        "      contact = []\n",
        "    if dataOutput[\"Tag\"][i-1] == \"PERSON\":\n",
        "      contact.append(dataOutput[\"Text\"][i-1])\n",
        "      contact.append(\"N/A\")\n",
        "      contact.append(dataOutput[\"Text\"][i])\n",
        "      res.append(contact)\n",
        "      contact = []\n",
        "    if dataOutput[\"Tag\"][i-1] == \"EMAIL\":\n",
        "      contact.append(\"N/A\")\n",
        "      contact.append(\"N/A\")\n",
        "      contact.append(dataOutput[\"Text\"][i])\n",
        "      res.append(contact)\n",
        "      contact = []"
      ]
    },
    {
      "cell_type": "code",
      "execution_count": null,
      "metadata": {
        "colab": {
          "base_uri": "https://localhost:8080/"
        },
        "id": "NEJ_-2fqvKmX",
        "outputId": "d19f8e22-991c-4faa-9403-0cc0c33f3689"
      },
      "outputs": [
        {
          "data": {
            "text/plain": [
              "[['Maria Hal Bright', 'Library Director', 'hbright@atsu.edu'],\n",
              " ['CJ Garcia', 'N/A', 'cjgarcia@atsu.edu'],\n",
              " ['Mari Murillo', 'Library Assistant', 'marimarmurillo@atsu.edu'],\n",
              " ['N/A', 'N/A', 'maudmundava@atsu.edu'],\n",
              " ['N/A', 'N/A', 'annemorgan@atsu.edu'],\n",
              " ['N/A', 'N/A', 'lwalter@atsu.edu'],\n",
              " ['N/A', 'N/A', 'ccaroli@atsu.edu'],\n",
              " ['Laura Lipke', 'N/A', 'lauralipke@atsu.edu'],\n",
              " ['N/A', 'N/A', 'dorothywinslow@atsu.edu'],\n",
              " ['N/A', 'N/A', 'libmo@atsu.edu'],\n",
              " ['N/A', 'N/A', 'libmo@atsu.edu']]"
            ]
          },
          "execution_count": 42,
          "metadata": {},
          "output_type": "execute_result"
        }
      ],
      "source": [
        "res"
      ]
    },
    {
      "cell_type": "code",
      "execution_count": 5,
      "metadata": {},
      "outputs": [],
      "source": [
        "res = []\n",
        "contact = []\n",
        "for i, row in dataOutput.iterrows():\n",
        "  if dataOutput[\"Tag\"][i] == \"PERSON\":\n",
        "    if dataOutput[\"Tag\"][i+1] == \"TITLE\" and dataOutput[\"Tag\"][i+2] == \"EMAIL\":\n",
        "      contact.append(dataOutput[\"Text\"][i])\n",
        "      contact.append(dataOutput[\"Text\"][i+1])\n",
        "      contact.append(dataOutput[\"Text\"][i+2])\n",
        "      res.append(contact)\n",
        "      contact = []"
      ]
    },
    {
      "cell_type": "code",
      "execution_count": 6,
      "metadata": {},
      "outputs": [
        {
          "data": {
            "text/plain": [
              "[['Hal Bright', 'Library Director', 'hbright@atsu.edu']]"
            ]
          },
          "execution_count": 6,
          "metadata": {},
          "output_type": "execute_result"
        }
      ],
      "source": [
        "res"
      ]
    },
    {
      "cell_type": "code",
      "execution_count": null,
      "metadata": {
        "id": "anWqJSnswAEG"
      },
      "outputs": [],
      "source": [
        "# for data in soup.find_all(\"p\"): \n",
        "#     print(data.get_text())"
      ]
    },
    {
      "cell_type": "code",
      "execution_count": null,
      "metadata": {
        "id": "5ZMXV-c3y2UC"
      },
      "outputs": [],
      "source": [
        "field_namesContacts = ['Name','Job Title','Email']\n",
        "\n",
        "contactHeaderAdded = False\n",
        "with open(\"contacts.csv\", \"a\", newline = '') as f:\n",
        "    writer = csv.writer(f)\n",
        "    if not contactHeaderAdded:\n",
        "      writer.writerow(field_namesContacts)\n",
        "      contactHeaderAdded = True\n",
        "    writer.writerows(res)"
      ]
    }
  ],
  "metadata": {
    "colab": {
      "collapsed_sections": [],
      "name": "contactScrape.ipynb",
      "provenance": []
    },
    "kernelspec": {
      "display_name": "Python 3.8.5 ('base')",
      "language": "python",
      "name": "python3"
    },
    "language_info": {
      "codemirror_mode": {
        "name": "ipython",
        "version": 3
      },
      "file_extension": ".py",
      "mimetype": "text/x-python",
      "name": "python",
      "nbconvert_exporter": "python",
      "pygments_lexer": "ipython3",
      "version": "3.8.5"
    },
    "orig_nbformat": 4,
    "vscode": {
      "interpreter": {
        "hash": "43794f9dbf35c8071020a62fff6bd77ce265685b8e1bb5f42a73b85f9efdf7ad"
      }
    },
    "widgets": {
      "application/vnd.jupyter.widget-state+json": {
        "02eae175d47c4182a94b44405f6ecbf4": {
          "model_module": "@jupyter-widgets/base",
          "model_module_version": "1.2.0",
          "model_name": "LayoutModel",
          "state": {
            "_model_module": "@jupyter-widgets/base",
            "_model_module_version": "1.2.0",
            "_model_name": "LayoutModel",
            "_view_count": null,
            "_view_module": "@jupyter-widgets/base",
            "_view_module_version": "1.2.0",
            "_view_name": "LayoutView",
            "align_content": null,
            "align_items": null,
            "align_self": null,
            "border": null,
            "bottom": null,
            "display": null,
            "flex": null,
            "flex_flow": null,
            "grid_area": null,
            "grid_auto_columns": null,
            "grid_auto_flow": null,
            "grid_auto_rows": null,
            "grid_column": null,
            "grid_gap": null,
            "grid_row": null,
            "grid_template_areas": null,
            "grid_template_columns": null,
            "grid_template_rows": null,
            "height": null,
            "justify_content": null,
            "justify_items": null,
            "left": null,
            "margin": null,
            "max_height": null,
            "max_width": null,
            "min_height": null,
            "min_width": null,
            "object_fit": null,
            "object_position": null,
            "order": null,
            "overflow": null,
            "overflow_x": null,
            "overflow_y": null,
            "padding": null,
            "right": null,
            "top": null,
            "visibility": null,
            "width": null
          }
        },
        "078bd16e6a984e408defb8ded3a4498d": {
          "model_module": "@jupyter-widgets/controls",
          "model_module_version": "1.5.0",
          "model_name": "HBoxModel",
          "state": {
            "_dom_classes": [],
            "_model_module": "@jupyter-widgets/controls",
            "_model_module_version": "1.5.0",
            "_model_name": "HBoxModel",
            "_view_count": null,
            "_view_module": "@jupyter-widgets/controls",
            "_view_module_version": "1.5.0",
            "_view_name": "HBoxView",
            "box_style": "",
            "children": [
              "IPY_MODEL_15861185c800440b804a5d70bec6dda3",
              "IPY_MODEL_9791743b8ed24d169fea656e8d3c9245",
              "IPY_MODEL_9d80e4e5f6784016bb71e1b94b862a82"
            ],
            "layout": "IPY_MODEL_d32df74202214096b5af1ada9c38c47b"
          }
        },
        "126e60f4b6964b0fb387be0ad6d1e1eb": {
          "model_module": "@jupyter-widgets/base",
          "model_module_version": "1.2.0",
          "model_name": "LayoutModel",
          "state": {
            "_model_module": "@jupyter-widgets/base",
            "_model_module_version": "1.2.0",
            "_model_name": "LayoutModel",
            "_view_count": null,
            "_view_module": "@jupyter-widgets/base",
            "_view_module_version": "1.2.0",
            "_view_name": "LayoutView",
            "align_content": null,
            "align_items": null,
            "align_self": null,
            "border": null,
            "bottom": null,
            "display": null,
            "flex": null,
            "flex_flow": null,
            "grid_area": null,
            "grid_auto_columns": null,
            "grid_auto_flow": null,
            "grid_auto_rows": null,
            "grid_column": null,
            "grid_gap": null,
            "grid_row": null,
            "grid_template_areas": null,
            "grid_template_columns": null,
            "grid_template_rows": null,
            "height": null,
            "justify_content": null,
            "justify_items": null,
            "left": null,
            "margin": null,
            "max_height": null,
            "max_width": null,
            "min_height": null,
            "min_width": null,
            "object_fit": null,
            "object_position": null,
            "order": null,
            "overflow": null,
            "overflow_x": null,
            "overflow_y": null,
            "padding": null,
            "right": null,
            "top": null,
            "visibility": null,
            "width": null
          }
        },
        "1453133081aa43729e89a6fa45a9edeb": {
          "model_module": "@jupyter-widgets/controls",
          "model_module_version": "1.5.0",
          "model_name": "HBoxModel",
          "state": {
            "_dom_classes": [],
            "_model_module": "@jupyter-widgets/controls",
            "_model_module_version": "1.5.0",
            "_model_name": "HBoxModel",
            "_view_count": null,
            "_view_module": "@jupyter-widgets/controls",
            "_view_module_version": "1.5.0",
            "_view_name": "HBoxView",
            "box_style": "",
            "children": [
              "IPY_MODEL_14658d11129c45feae78519b163b4499",
              "IPY_MODEL_fe5d2b3be863488793cc94684599258f",
              "IPY_MODEL_339034bc819044e882f7ac7eab18eec6"
            ],
            "layout": "IPY_MODEL_43b4830eeaa74d6f821c3c23d9741218"
          }
        },
        "14658d11129c45feae78519b163b4499": {
          "model_module": "@jupyter-widgets/controls",
          "model_module_version": "1.5.0",
          "model_name": "HTMLModel",
          "state": {
            "_dom_classes": [],
            "_model_module": "@jupyter-widgets/controls",
            "_model_module_version": "1.5.0",
            "_model_name": "HTMLModel",
            "_view_count": null,
            "_view_module": "@jupyter-widgets/controls",
            "_view_module_version": "1.5.0",
            "_view_name": "HTMLView",
            "description": "",
            "description_tooltip": null,
            "layout": "IPY_MODEL_5991cb060496468985f480ca9cf7a667",
            "placeholder": "​",
            "style": "IPY_MODEL_36efd71c6791465e93c4dae94f711f52",
            "value": "Downloading https://huggingface.co/stanfordnlp/CoreNLP/resolve/main/stanford-corenlp-latest.zip: 100%"
          }
        },
        "15861185c800440b804a5d70bec6dda3": {
          "model_module": "@jupyter-widgets/controls",
          "model_module_version": "1.5.0",
          "model_name": "HTMLModel",
          "state": {
            "_dom_classes": [],
            "_model_module": "@jupyter-widgets/controls",
            "_model_module_version": "1.5.0",
            "_model_name": "HTMLModel",
            "_view_count": null,
            "_view_module": "@jupyter-widgets/controls",
            "_view_module_version": "1.5.0",
            "_view_name": "HTMLView",
            "description": "",
            "description_tooltip": null,
            "layout": "IPY_MODEL_7763d2ef4fd84da2ba83717eaa905e87",
            "placeholder": "​",
            "style": "IPY_MODEL_f364b87c1534493ea15ed7983d5bff45",
            "value": "Downloading https://raw.githubusercontent.com/stanfordnlp/stanza-resources/main/resources_1.4.0.json: "
          }
        },
        "199ee60f098e4ff1b46edc35599a5ab5": {
          "model_module": "@jupyter-widgets/base",
          "model_module_version": "1.2.0",
          "model_name": "LayoutModel",
          "state": {
            "_model_module": "@jupyter-widgets/base",
            "_model_module_version": "1.2.0",
            "_model_name": "LayoutModel",
            "_view_count": null,
            "_view_module": "@jupyter-widgets/base",
            "_view_module_version": "1.2.0",
            "_view_name": "LayoutView",
            "align_content": null,
            "align_items": null,
            "align_self": null,
            "border": null,
            "bottom": null,
            "display": null,
            "flex": null,
            "flex_flow": null,
            "grid_area": null,
            "grid_auto_columns": null,
            "grid_auto_flow": null,
            "grid_auto_rows": null,
            "grid_column": null,
            "grid_gap": null,
            "grid_row": null,
            "grid_template_areas": null,
            "grid_template_columns": null,
            "grid_template_rows": null,
            "height": null,
            "justify_content": null,
            "justify_items": null,
            "left": null,
            "margin": null,
            "max_height": null,
            "max_width": null,
            "min_height": null,
            "min_width": null,
            "object_fit": null,
            "object_position": null,
            "order": null,
            "overflow": null,
            "overflow_x": null,
            "overflow_y": null,
            "padding": null,
            "right": null,
            "top": null,
            "visibility": null,
            "width": null
          }
        },
        "2a594031aba5473db508c62dc8028a78": {
          "model_module": "@jupyter-widgets/controls",
          "model_module_version": "1.5.0",
          "model_name": "ProgressStyleModel",
          "state": {
            "_model_module": "@jupyter-widgets/controls",
            "_model_module_version": "1.5.0",
            "_model_name": "ProgressStyleModel",
            "_view_count": null,
            "_view_module": "@jupyter-widgets/base",
            "_view_module_version": "1.2.0",
            "_view_name": "StyleView",
            "bar_color": null,
            "description_width": ""
          }
        },
        "2cd4406056a54ae795f4b8d8145279d7": {
          "model_module": "@jupyter-widgets/controls",
          "model_module_version": "1.5.0",
          "model_name": "DescriptionStyleModel",
          "state": {
            "_model_module": "@jupyter-widgets/controls",
            "_model_module_version": "1.5.0",
            "_model_name": "DescriptionStyleModel",
            "_view_count": null,
            "_view_module": "@jupyter-widgets/base",
            "_view_module_version": "1.2.0",
            "_view_name": "StyleView",
            "description_width": ""
          }
        },
        "334ee58410b446e59b5c4d207beab399": {
          "model_module": "@jupyter-widgets/base",
          "model_module_version": "1.2.0",
          "model_name": "LayoutModel",
          "state": {
            "_model_module": "@jupyter-widgets/base",
            "_model_module_version": "1.2.0",
            "_model_name": "LayoutModel",
            "_view_count": null,
            "_view_module": "@jupyter-widgets/base",
            "_view_module_version": "1.2.0",
            "_view_name": "LayoutView",
            "align_content": null,
            "align_items": null,
            "align_self": null,
            "border": null,
            "bottom": null,
            "display": null,
            "flex": null,
            "flex_flow": null,
            "grid_area": null,
            "grid_auto_columns": null,
            "grid_auto_flow": null,
            "grid_auto_rows": null,
            "grid_column": null,
            "grid_gap": null,
            "grid_row": null,
            "grid_template_areas": null,
            "grid_template_columns": null,
            "grid_template_rows": null,
            "height": null,
            "justify_content": null,
            "justify_items": null,
            "left": null,
            "margin": null,
            "max_height": null,
            "max_width": null,
            "min_height": null,
            "min_width": null,
            "object_fit": null,
            "object_position": null,
            "order": null,
            "overflow": null,
            "overflow_x": null,
            "overflow_y": null,
            "padding": null,
            "right": null,
            "top": null,
            "visibility": null,
            "width": null
          }
        },
        "339034bc819044e882f7ac7eab18eec6": {
          "model_module": "@jupyter-widgets/controls",
          "model_module_version": "1.5.0",
          "model_name": "HTMLModel",
          "state": {
            "_dom_classes": [],
            "_model_module": "@jupyter-widgets/controls",
            "_model_module_version": "1.5.0",
            "_model_name": "HTMLModel",
            "_view_count": null,
            "_view_module": "@jupyter-widgets/controls",
            "_view_module_version": "1.5.0",
            "_view_name": "HTMLView",
            "description": "",
            "description_tooltip": null,
            "layout": "IPY_MODEL_c5c243695ef546fbb37e9524d6b93151",
            "placeholder": "​",
            "style": "IPY_MODEL_e3165ba6f25942cf843654898efbd4e6",
            "value": " 505M/505M [00:09&lt;00:00, 76.0MB/s]"
          }
        },
        "36efd71c6791465e93c4dae94f711f52": {
          "model_module": "@jupyter-widgets/controls",
          "model_module_version": "1.5.0",
          "model_name": "DescriptionStyleModel",
          "state": {
            "_model_module": "@jupyter-widgets/controls",
            "_model_module_version": "1.5.0",
            "_model_name": "DescriptionStyleModel",
            "_view_count": null,
            "_view_module": "@jupyter-widgets/base",
            "_view_module_version": "1.2.0",
            "_view_name": "StyleView",
            "description_width": ""
          }
        },
        "3bdd6cb518a54b20b18edcd0c84afdc8": {
          "model_module": "@jupyter-widgets/controls",
          "model_module_version": "1.5.0",
          "model_name": "DescriptionStyleModel",
          "state": {
            "_model_module": "@jupyter-widgets/controls",
            "_model_module_version": "1.5.0",
            "_model_name": "DescriptionStyleModel",
            "_view_count": null,
            "_view_module": "@jupyter-widgets/base",
            "_view_module_version": "1.2.0",
            "_view_name": "StyleView",
            "description_width": ""
          }
        },
        "3d19897382f24239a70f0a1b2e9b0a36": {
          "model_module": "@jupyter-widgets/controls",
          "model_module_version": "1.5.0",
          "model_name": "HBoxModel",
          "state": {
            "_dom_classes": [],
            "_model_module": "@jupyter-widgets/controls",
            "_model_module_version": "1.5.0",
            "_model_name": "HBoxModel",
            "_view_count": null,
            "_view_module": "@jupyter-widgets/controls",
            "_view_module_version": "1.5.0",
            "_view_name": "HBoxView",
            "box_style": "",
            "children": [
              "IPY_MODEL_9012bb662e8847fd886f843b2bccd963",
              "IPY_MODEL_aabe6997bdd942f59d13df34a5e50f0c",
              "IPY_MODEL_e90c96365d1a4718bba2683f3732b484"
            ],
            "layout": "IPY_MODEL_199ee60f098e4ff1b46edc35599a5ab5"
          }
        },
        "438292eb4cf340e5a19690afaa2f55f9": {
          "model_module": "@jupyter-widgets/controls",
          "model_module_version": "1.5.0",
          "model_name": "ProgressStyleModel",
          "state": {
            "_model_module": "@jupyter-widgets/controls",
            "_model_module_version": "1.5.0",
            "_model_name": "ProgressStyleModel",
            "_view_count": null,
            "_view_module": "@jupyter-widgets/base",
            "_view_module_version": "1.2.0",
            "_view_name": "StyleView",
            "bar_color": null,
            "description_width": ""
          }
        },
        "43b4830eeaa74d6f821c3c23d9741218": {
          "model_module": "@jupyter-widgets/base",
          "model_module_version": "1.2.0",
          "model_name": "LayoutModel",
          "state": {
            "_model_module": "@jupyter-widgets/base",
            "_model_module_version": "1.2.0",
            "_model_name": "LayoutModel",
            "_view_count": null,
            "_view_module": "@jupyter-widgets/base",
            "_view_module_version": "1.2.0",
            "_view_name": "LayoutView",
            "align_content": null,
            "align_items": null,
            "align_self": null,
            "border": null,
            "bottom": null,
            "display": null,
            "flex": null,
            "flex_flow": null,
            "grid_area": null,
            "grid_auto_columns": null,
            "grid_auto_flow": null,
            "grid_auto_rows": null,
            "grid_column": null,
            "grid_gap": null,
            "grid_row": null,
            "grid_template_areas": null,
            "grid_template_columns": null,
            "grid_template_rows": null,
            "height": null,
            "justify_content": null,
            "justify_items": null,
            "left": null,
            "margin": null,
            "max_height": null,
            "max_width": null,
            "min_height": null,
            "min_width": null,
            "object_fit": null,
            "object_position": null,
            "order": null,
            "overflow": null,
            "overflow_x": null,
            "overflow_y": null,
            "padding": null,
            "right": null,
            "top": null,
            "visibility": null,
            "width": null
          }
        },
        "4c5c7c4cc35747c78e1c3f054b2c58a9": {
          "model_module": "@jupyter-widgets/base",
          "model_module_version": "1.2.0",
          "model_name": "LayoutModel",
          "state": {
            "_model_module": "@jupyter-widgets/base",
            "_model_module_version": "1.2.0",
            "_model_name": "LayoutModel",
            "_view_count": null,
            "_view_module": "@jupyter-widgets/base",
            "_view_module_version": "1.2.0",
            "_view_name": "LayoutView",
            "align_content": null,
            "align_items": null,
            "align_self": null,
            "border": null,
            "bottom": null,
            "display": null,
            "flex": null,
            "flex_flow": null,
            "grid_area": null,
            "grid_auto_columns": null,
            "grid_auto_flow": null,
            "grid_auto_rows": null,
            "grid_column": null,
            "grid_gap": null,
            "grid_row": null,
            "grid_template_areas": null,
            "grid_template_columns": null,
            "grid_template_rows": null,
            "height": null,
            "justify_content": null,
            "justify_items": null,
            "left": null,
            "margin": null,
            "max_height": null,
            "max_width": null,
            "min_height": null,
            "min_width": null,
            "object_fit": null,
            "object_position": null,
            "order": null,
            "overflow": null,
            "overflow_x": null,
            "overflow_y": null,
            "padding": null,
            "right": null,
            "top": null,
            "visibility": null,
            "width": null
          }
        },
        "554a1a117c7543d1995a3910d9a98647": {
          "model_module": "@jupyter-widgets/controls",
          "model_module_version": "1.5.0",
          "model_name": "DescriptionStyleModel",
          "state": {
            "_model_module": "@jupyter-widgets/controls",
            "_model_module_version": "1.5.0",
            "_model_name": "DescriptionStyleModel",
            "_view_count": null,
            "_view_module": "@jupyter-widgets/base",
            "_view_module_version": "1.2.0",
            "_view_name": "StyleView",
            "description_width": ""
          }
        },
        "5991cb060496468985f480ca9cf7a667": {
          "model_module": "@jupyter-widgets/base",
          "model_module_version": "1.2.0",
          "model_name": "LayoutModel",
          "state": {
            "_model_module": "@jupyter-widgets/base",
            "_model_module_version": "1.2.0",
            "_model_name": "LayoutModel",
            "_view_count": null,
            "_view_module": "@jupyter-widgets/base",
            "_view_module_version": "1.2.0",
            "_view_name": "LayoutView",
            "align_content": null,
            "align_items": null,
            "align_self": null,
            "border": null,
            "bottom": null,
            "display": null,
            "flex": null,
            "flex_flow": null,
            "grid_area": null,
            "grid_auto_columns": null,
            "grid_auto_flow": null,
            "grid_auto_rows": null,
            "grid_column": null,
            "grid_gap": null,
            "grid_row": null,
            "grid_template_areas": null,
            "grid_template_columns": null,
            "grid_template_rows": null,
            "height": null,
            "justify_content": null,
            "justify_items": null,
            "left": null,
            "margin": null,
            "max_height": null,
            "max_width": null,
            "min_height": null,
            "min_width": null,
            "object_fit": null,
            "object_position": null,
            "order": null,
            "overflow": null,
            "overflow_x": null,
            "overflow_y": null,
            "padding": null,
            "right": null,
            "top": null,
            "visibility": null,
            "width": null
          }
        },
        "6ac602d565174f24834ee4b37439ebb7": {
          "model_module": "@jupyter-widgets/controls",
          "model_module_version": "1.5.0",
          "model_name": "HTMLModel",
          "state": {
            "_dom_classes": [],
            "_model_module": "@jupyter-widgets/controls",
            "_model_module_version": "1.5.0",
            "_model_name": "HTMLModel",
            "_view_count": null,
            "_view_module": "@jupyter-widgets/controls",
            "_view_module_version": "1.5.0",
            "_view_name": "HTMLView",
            "description": "",
            "description_tooltip": null,
            "layout": "IPY_MODEL_126e60f4b6964b0fb387be0ad6d1e1eb",
            "placeholder": "​",
            "style": "IPY_MODEL_554a1a117c7543d1995a3910d9a98647",
            "value": "Downloading https://huggingface.co/stanfordnlp/stanza-en/resolve/v1.4.0/models/default.zip: 100%"
          }
        },
        "7763d2ef4fd84da2ba83717eaa905e87": {
          "model_module": "@jupyter-widgets/base",
          "model_module_version": "1.2.0",
          "model_name": "LayoutModel",
          "state": {
            "_model_module": "@jupyter-widgets/base",
            "_model_module_version": "1.2.0",
            "_model_name": "LayoutModel",
            "_view_count": null,
            "_view_module": "@jupyter-widgets/base",
            "_view_module_version": "1.2.0",
            "_view_name": "LayoutView",
            "align_content": null,
            "align_items": null,
            "align_self": null,
            "border": null,
            "bottom": null,
            "display": null,
            "flex": null,
            "flex_flow": null,
            "grid_area": null,
            "grid_auto_columns": null,
            "grid_auto_flow": null,
            "grid_auto_rows": null,
            "grid_column": null,
            "grid_gap": null,
            "grid_row": null,
            "grid_template_areas": null,
            "grid_template_columns": null,
            "grid_template_rows": null,
            "height": null,
            "justify_content": null,
            "justify_items": null,
            "left": null,
            "margin": null,
            "max_height": null,
            "max_width": null,
            "min_height": null,
            "min_width": null,
            "object_fit": null,
            "object_position": null,
            "order": null,
            "overflow": null,
            "overflow_x": null,
            "overflow_y": null,
            "padding": null,
            "right": null,
            "top": null,
            "visibility": null,
            "width": null
          }
        },
        "79a19a6fe65e4e52a96b8f8b43758b49": {
          "model_module": "@jupyter-widgets/base",
          "model_module_version": "1.2.0",
          "model_name": "LayoutModel",
          "state": {
            "_model_module": "@jupyter-widgets/base",
            "_model_module_version": "1.2.0",
            "_model_name": "LayoutModel",
            "_view_count": null,
            "_view_module": "@jupyter-widgets/base",
            "_view_module_version": "1.2.0",
            "_view_name": "LayoutView",
            "align_content": null,
            "align_items": null,
            "align_self": null,
            "border": null,
            "bottom": null,
            "display": null,
            "flex": null,
            "flex_flow": null,
            "grid_area": null,
            "grid_auto_columns": null,
            "grid_auto_flow": null,
            "grid_auto_rows": null,
            "grid_column": null,
            "grid_gap": null,
            "grid_row": null,
            "grid_template_areas": null,
            "grid_template_columns": null,
            "grid_template_rows": null,
            "height": null,
            "justify_content": null,
            "justify_items": null,
            "left": null,
            "margin": null,
            "max_height": null,
            "max_width": null,
            "min_height": null,
            "min_width": null,
            "object_fit": null,
            "object_position": null,
            "order": null,
            "overflow": null,
            "overflow_x": null,
            "overflow_y": null,
            "padding": null,
            "right": null,
            "top": null,
            "visibility": null,
            "width": null
          }
        },
        "7b96f1f2a675472a9c53d2485d99f8ff": {
          "model_module": "@jupyter-widgets/controls",
          "model_module_version": "1.5.0",
          "model_name": "ProgressStyleModel",
          "state": {
            "_model_module": "@jupyter-widgets/controls",
            "_model_module_version": "1.5.0",
            "_model_name": "ProgressStyleModel",
            "_view_count": null,
            "_view_module": "@jupyter-widgets/base",
            "_view_module_version": "1.2.0",
            "_view_name": "StyleView",
            "bar_color": null,
            "description_width": ""
          }
        },
        "7c156621fcf44bb5ac10fb478810a923": {
          "model_module": "@jupyter-widgets/base",
          "model_module_version": "1.2.0",
          "model_name": "LayoutModel",
          "state": {
            "_model_module": "@jupyter-widgets/base",
            "_model_module_version": "1.2.0",
            "_model_name": "LayoutModel",
            "_view_count": null,
            "_view_module": "@jupyter-widgets/base",
            "_view_module_version": "1.2.0",
            "_view_name": "LayoutView",
            "align_content": null,
            "align_items": null,
            "align_self": null,
            "border": null,
            "bottom": null,
            "display": null,
            "flex": null,
            "flex_flow": null,
            "grid_area": null,
            "grid_auto_columns": null,
            "grid_auto_flow": null,
            "grid_auto_rows": null,
            "grid_column": null,
            "grid_gap": null,
            "grid_row": null,
            "grid_template_areas": null,
            "grid_template_columns": null,
            "grid_template_rows": null,
            "height": null,
            "justify_content": null,
            "justify_items": null,
            "left": null,
            "margin": null,
            "max_height": null,
            "max_width": null,
            "min_height": null,
            "min_width": null,
            "object_fit": null,
            "object_position": null,
            "order": null,
            "overflow": null,
            "overflow_x": null,
            "overflow_y": null,
            "padding": null,
            "right": null,
            "top": null,
            "visibility": null,
            "width": null
          }
        },
        "8757c10031294cf2b2501d4ca5c58834": {
          "model_module": "@jupyter-widgets/base",
          "model_module_version": "1.2.0",
          "model_name": "LayoutModel",
          "state": {
            "_model_module": "@jupyter-widgets/base",
            "_model_module_version": "1.2.0",
            "_model_name": "LayoutModel",
            "_view_count": null,
            "_view_module": "@jupyter-widgets/base",
            "_view_module_version": "1.2.0",
            "_view_name": "LayoutView",
            "align_content": null,
            "align_items": null,
            "align_self": null,
            "border": null,
            "bottom": null,
            "display": null,
            "flex": null,
            "flex_flow": null,
            "grid_area": null,
            "grid_auto_columns": null,
            "grid_auto_flow": null,
            "grid_auto_rows": null,
            "grid_column": null,
            "grid_gap": null,
            "grid_row": null,
            "grid_template_areas": null,
            "grid_template_columns": null,
            "grid_template_rows": null,
            "height": null,
            "justify_content": null,
            "justify_items": null,
            "left": null,
            "margin": null,
            "max_height": null,
            "max_width": null,
            "min_height": null,
            "min_width": null,
            "object_fit": null,
            "object_position": null,
            "order": null,
            "overflow": null,
            "overflow_x": null,
            "overflow_y": null,
            "padding": null,
            "right": null,
            "top": null,
            "visibility": null,
            "width": null
          }
        },
        "88f135438988482987a11336f6b77d60": {
          "model_module": "@jupyter-widgets/controls",
          "model_module_version": "1.5.0",
          "model_name": "DescriptionStyleModel",
          "state": {
            "_model_module": "@jupyter-widgets/controls",
            "_model_module_version": "1.5.0",
            "_model_name": "DescriptionStyleModel",
            "_view_count": null,
            "_view_module": "@jupyter-widgets/base",
            "_view_module_version": "1.2.0",
            "_view_name": "StyleView",
            "description_width": ""
          }
        },
        "9012bb662e8847fd886f843b2bccd963": {
          "model_module": "@jupyter-widgets/controls",
          "model_module_version": "1.5.0",
          "model_name": "HTMLModel",
          "state": {
            "_dom_classes": [],
            "_model_module": "@jupyter-widgets/controls",
            "_model_module_version": "1.5.0",
            "_model_name": "HTMLModel",
            "_view_count": null,
            "_view_module": "@jupyter-widgets/controls",
            "_view_module_version": "1.5.0",
            "_view_name": "HTMLView",
            "description": "",
            "description_tooltip": null,
            "layout": "IPY_MODEL_7c156621fcf44bb5ac10fb478810a923",
            "placeholder": "​",
            "style": "IPY_MODEL_3bdd6cb518a54b20b18edcd0c84afdc8",
            "value": "Downloading https://raw.githubusercontent.com/stanfordnlp/stanza-resources/main/resources_1.4.0.json: "
          }
        },
        "9791743b8ed24d169fea656e8d3c9245": {
          "model_module": "@jupyter-widgets/controls",
          "model_module_version": "1.5.0",
          "model_name": "FloatProgressModel",
          "state": {
            "_dom_classes": [],
            "_model_module": "@jupyter-widgets/controls",
            "_model_module_version": "1.5.0",
            "_model_name": "FloatProgressModel",
            "_view_count": null,
            "_view_module": "@jupyter-widgets/controls",
            "_view_module_version": "1.5.0",
            "_view_name": "ProgressView",
            "bar_style": "success",
            "description": "",
            "description_tooltip": null,
            "layout": "IPY_MODEL_79a19a6fe65e4e52a96b8f8b43758b49",
            "max": 25998,
            "min": 0,
            "orientation": "horizontal",
            "style": "IPY_MODEL_7b96f1f2a675472a9c53d2485d99f8ff",
            "value": 25998
          }
        },
        "9d80e4e5f6784016bb71e1b94b862a82": {
          "model_module": "@jupyter-widgets/controls",
          "model_module_version": "1.5.0",
          "model_name": "HTMLModel",
          "state": {
            "_dom_classes": [],
            "_model_module": "@jupyter-widgets/controls",
            "_model_module_version": "1.5.0",
            "_model_name": "HTMLModel",
            "_view_count": null,
            "_view_module": "@jupyter-widgets/controls",
            "_view_module_version": "1.5.0",
            "_view_name": "HTMLView",
            "description": "",
            "description_tooltip": null,
            "layout": "IPY_MODEL_334ee58410b446e59b5c4d207beab399",
            "placeholder": "​",
            "style": "IPY_MODEL_bc277808630144f589014828bbb18367",
            "value": " 154k/? [00:00&lt;00:00, 904kB/s]"
          }
        },
        "9f1dabb72a7640a09d8f26f089b539d9": {
          "model_module": "@jupyter-widgets/base",
          "model_module_version": "1.2.0",
          "model_name": "LayoutModel",
          "state": {
            "_model_module": "@jupyter-widgets/base",
            "_model_module_version": "1.2.0",
            "_model_name": "LayoutModel",
            "_view_count": null,
            "_view_module": "@jupyter-widgets/base",
            "_view_module_version": "1.2.0",
            "_view_name": "LayoutView",
            "align_content": null,
            "align_items": null,
            "align_self": null,
            "border": null,
            "bottom": null,
            "display": null,
            "flex": null,
            "flex_flow": null,
            "grid_area": null,
            "grid_auto_columns": null,
            "grid_auto_flow": null,
            "grid_auto_rows": null,
            "grid_column": null,
            "grid_gap": null,
            "grid_row": null,
            "grid_template_areas": null,
            "grid_template_columns": null,
            "grid_template_rows": null,
            "height": null,
            "justify_content": null,
            "justify_items": null,
            "left": null,
            "margin": null,
            "max_height": null,
            "max_width": null,
            "min_height": null,
            "min_width": null,
            "object_fit": null,
            "object_position": null,
            "order": null,
            "overflow": null,
            "overflow_x": null,
            "overflow_y": null,
            "padding": null,
            "right": null,
            "top": null,
            "visibility": null,
            "width": null
          }
        },
        "a78e0410b8ce4d778d02b66a2dc10bd7": {
          "model_module": "@jupyter-widgets/base",
          "model_module_version": "1.2.0",
          "model_name": "LayoutModel",
          "state": {
            "_model_module": "@jupyter-widgets/base",
            "_model_module_version": "1.2.0",
            "_model_name": "LayoutModel",
            "_view_count": null,
            "_view_module": "@jupyter-widgets/base",
            "_view_module_version": "1.2.0",
            "_view_name": "LayoutView",
            "align_content": null,
            "align_items": null,
            "align_self": null,
            "border": null,
            "bottom": null,
            "display": null,
            "flex": null,
            "flex_flow": null,
            "grid_area": null,
            "grid_auto_columns": null,
            "grid_auto_flow": null,
            "grid_auto_rows": null,
            "grid_column": null,
            "grid_gap": null,
            "grid_row": null,
            "grid_template_areas": null,
            "grid_template_columns": null,
            "grid_template_rows": null,
            "height": null,
            "justify_content": null,
            "justify_items": null,
            "left": null,
            "margin": null,
            "max_height": null,
            "max_width": null,
            "min_height": null,
            "min_width": null,
            "object_fit": null,
            "object_position": null,
            "order": null,
            "overflow": null,
            "overflow_x": null,
            "overflow_y": null,
            "padding": null,
            "right": null,
            "top": null,
            "visibility": null,
            "width": null
          }
        },
        "aabe6997bdd942f59d13df34a5e50f0c": {
          "model_module": "@jupyter-widgets/controls",
          "model_module_version": "1.5.0",
          "model_name": "FloatProgressModel",
          "state": {
            "_dom_classes": [],
            "_model_module": "@jupyter-widgets/controls",
            "_model_module_version": "1.5.0",
            "_model_name": "FloatProgressModel",
            "_view_count": null,
            "_view_module": "@jupyter-widgets/controls",
            "_view_module_version": "1.5.0",
            "_view_name": "ProgressView",
            "bar_style": "success",
            "description": "",
            "description_tooltip": null,
            "layout": "IPY_MODEL_e248548cefd64e84b7f802898ce2dda7",
            "max": 25998,
            "min": 0,
            "orientation": "horizontal",
            "style": "IPY_MODEL_438292eb4cf340e5a19690afaa2f55f9",
            "value": 25998
          }
        },
        "acdabc22e7d943caab95d0e2c9452c3d": {
          "model_module": "@jupyter-widgets/controls",
          "model_module_version": "1.5.0",
          "model_name": "HBoxModel",
          "state": {
            "_dom_classes": [],
            "_model_module": "@jupyter-widgets/controls",
            "_model_module_version": "1.5.0",
            "_model_name": "HBoxModel",
            "_view_count": null,
            "_view_module": "@jupyter-widgets/controls",
            "_view_module_version": "1.5.0",
            "_view_name": "HBoxView",
            "box_style": "",
            "children": [
              "IPY_MODEL_6ac602d565174f24834ee4b37439ebb7",
              "IPY_MODEL_bd33ee1dd1bd445da28df6b913752c80",
              "IPY_MODEL_e59a0c8d8d9e48f49026da3ca06ef625"
            ],
            "layout": "IPY_MODEL_02eae175d47c4182a94b44405f6ecbf4"
          }
        },
        "bc277808630144f589014828bbb18367": {
          "model_module": "@jupyter-widgets/controls",
          "model_module_version": "1.5.0",
          "model_name": "DescriptionStyleModel",
          "state": {
            "_model_module": "@jupyter-widgets/controls",
            "_model_module_version": "1.5.0",
            "_model_name": "DescriptionStyleModel",
            "_view_count": null,
            "_view_module": "@jupyter-widgets/base",
            "_view_module_version": "1.2.0",
            "_view_name": "StyleView",
            "description_width": ""
          }
        },
        "bd33ee1dd1bd445da28df6b913752c80": {
          "model_module": "@jupyter-widgets/controls",
          "model_module_version": "1.5.0",
          "model_name": "FloatProgressModel",
          "state": {
            "_dom_classes": [],
            "_model_module": "@jupyter-widgets/controls",
            "_model_module_version": "1.5.0",
            "_model_name": "FloatProgressModel",
            "_view_count": null,
            "_view_module": "@jupyter-widgets/controls",
            "_view_module_version": "1.5.0",
            "_view_name": "ProgressView",
            "bar_style": "success",
            "description": "",
            "description_tooltip": null,
            "layout": "IPY_MODEL_4c5c7c4cc35747c78e1c3f054b2c58a9",
            "max": 479293702,
            "min": 0,
            "orientation": "horizontal",
            "style": "IPY_MODEL_2a594031aba5473db508c62dc8028a78",
            "value": 479293702
          }
        },
        "c5c243695ef546fbb37e9524d6b93151": {
          "model_module": "@jupyter-widgets/base",
          "model_module_version": "1.2.0",
          "model_name": "LayoutModel",
          "state": {
            "_model_module": "@jupyter-widgets/base",
            "_model_module_version": "1.2.0",
            "_model_name": "LayoutModel",
            "_view_count": null,
            "_view_module": "@jupyter-widgets/base",
            "_view_module_version": "1.2.0",
            "_view_name": "LayoutView",
            "align_content": null,
            "align_items": null,
            "align_self": null,
            "border": null,
            "bottom": null,
            "display": null,
            "flex": null,
            "flex_flow": null,
            "grid_area": null,
            "grid_auto_columns": null,
            "grid_auto_flow": null,
            "grid_auto_rows": null,
            "grid_column": null,
            "grid_gap": null,
            "grid_row": null,
            "grid_template_areas": null,
            "grid_template_columns": null,
            "grid_template_rows": null,
            "height": null,
            "justify_content": null,
            "justify_items": null,
            "left": null,
            "margin": null,
            "max_height": null,
            "max_width": null,
            "min_height": null,
            "min_width": null,
            "object_fit": null,
            "object_position": null,
            "order": null,
            "overflow": null,
            "overflow_x": null,
            "overflow_y": null,
            "padding": null,
            "right": null,
            "top": null,
            "visibility": null,
            "width": null
          }
        },
        "d2a01e479a454f6798084645b68705f1": {
          "model_module": "@jupyter-widgets/controls",
          "model_module_version": "1.5.0",
          "model_name": "ProgressStyleModel",
          "state": {
            "_model_module": "@jupyter-widgets/controls",
            "_model_module_version": "1.5.0",
            "_model_name": "ProgressStyleModel",
            "_view_count": null,
            "_view_module": "@jupyter-widgets/base",
            "_view_module_version": "1.2.0",
            "_view_name": "StyleView",
            "bar_color": null,
            "description_width": ""
          }
        },
        "d32df74202214096b5af1ada9c38c47b": {
          "model_module": "@jupyter-widgets/base",
          "model_module_version": "1.2.0",
          "model_name": "LayoutModel",
          "state": {
            "_model_module": "@jupyter-widgets/base",
            "_model_module_version": "1.2.0",
            "_model_name": "LayoutModel",
            "_view_count": null,
            "_view_module": "@jupyter-widgets/base",
            "_view_module_version": "1.2.0",
            "_view_name": "LayoutView",
            "align_content": null,
            "align_items": null,
            "align_self": null,
            "border": null,
            "bottom": null,
            "display": null,
            "flex": null,
            "flex_flow": null,
            "grid_area": null,
            "grid_auto_columns": null,
            "grid_auto_flow": null,
            "grid_auto_rows": null,
            "grid_column": null,
            "grid_gap": null,
            "grid_row": null,
            "grid_template_areas": null,
            "grid_template_columns": null,
            "grid_template_rows": null,
            "height": null,
            "justify_content": null,
            "justify_items": null,
            "left": null,
            "margin": null,
            "max_height": null,
            "max_width": null,
            "min_height": null,
            "min_width": null,
            "object_fit": null,
            "object_position": null,
            "order": null,
            "overflow": null,
            "overflow_x": null,
            "overflow_y": null,
            "padding": null,
            "right": null,
            "top": null,
            "visibility": null,
            "width": null
          }
        },
        "e248548cefd64e84b7f802898ce2dda7": {
          "model_module": "@jupyter-widgets/base",
          "model_module_version": "1.2.0",
          "model_name": "LayoutModel",
          "state": {
            "_model_module": "@jupyter-widgets/base",
            "_model_module_version": "1.2.0",
            "_model_name": "LayoutModel",
            "_view_count": null,
            "_view_module": "@jupyter-widgets/base",
            "_view_module_version": "1.2.0",
            "_view_name": "LayoutView",
            "align_content": null,
            "align_items": null,
            "align_self": null,
            "border": null,
            "bottom": null,
            "display": null,
            "flex": null,
            "flex_flow": null,
            "grid_area": null,
            "grid_auto_columns": null,
            "grid_auto_flow": null,
            "grid_auto_rows": null,
            "grid_column": null,
            "grid_gap": null,
            "grid_row": null,
            "grid_template_areas": null,
            "grid_template_columns": null,
            "grid_template_rows": null,
            "height": null,
            "justify_content": null,
            "justify_items": null,
            "left": null,
            "margin": null,
            "max_height": null,
            "max_width": null,
            "min_height": null,
            "min_width": null,
            "object_fit": null,
            "object_position": null,
            "order": null,
            "overflow": null,
            "overflow_x": null,
            "overflow_y": null,
            "padding": null,
            "right": null,
            "top": null,
            "visibility": null,
            "width": null
          }
        },
        "e3165ba6f25942cf843654898efbd4e6": {
          "model_module": "@jupyter-widgets/controls",
          "model_module_version": "1.5.0",
          "model_name": "DescriptionStyleModel",
          "state": {
            "_model_module": "@jupyter-widgets/controls",
            "_model_module_version": "1.5.0",
            "_model_name": "DescriptionStyleModel",
            "_view_count": null,
            "_view_module": "@jupyter-widgets/base",
            "_view_module_version": "1.2.0",
            "_view_name": "StyleView",
            "description_width": ""
          }
        },
        "e59a0c8d8d9e48f49026da3ca06ef625": {
          "model_module": "@jupyter-widgets/controls",
          "model_module_version": "1.5.0",
          "model_name": "HTMLModel",
          "state": {
            "_dom_classes": [],
            "_model_module": "@jupyter-widgets/controls",
            "_model_module_version": "1.5.0",
            "_model_name": "HTMLModel",
            "_view_count": null,
            "_view_module": "@jupyter-widgets/controls",
            "_view_module_version": "1.5.0",
            "_view_name": "HTMLView",
            "description": "",
            "description_tooltip": null,
            "layout": "IPY_MODEL_a78e0410b8ce4d778d02b66a2dc10bd7",
            "placeholder": "​",
            "style": "IPY_MODEL_88f135438988482987a11336f6b77d60",
            "value": " 479M/479M [00:07&lt;00:00, 92.7MB/s]"
          }
        },
        "e90c96365d1a4718bba2683f3732b484": {
          "model_module": "@jupyter-widgets/controls",
          "model_module_version": "1.5.0",
          "model_name": "HTMLModel",
          "state": {
            "_dom_classes": [],
            "_model_module": "@jupyter-widgets/controls",
            "_model_module_version": "1.5.0",
            "_model_name": "HTMLModel",
            "_view_count": null,
            "_view_module": "@jupyter-widgets/controls",
            "_view_module_version": "1.5.0",
            "_view_name": "HTMLView",
            "description": "",
            "description_tooltip": null,
            "layout": "IPY_MODEL_8757c10031294cf2b2501d4ca5c58834",
            "placeholder": "​",
            "style": "IPY_MODEL_2cd4406056a54ae795f4b8d8145279d7",
            "value": " 154k/? [00:00&lt;00:00, 991kB/s]"
          }
        },
        "f364b87c1534493ea15ed7983d5bff45": {
          "model_module": "@jupyter-widgets/controls",
          "model_module_version": "1.5.0",
          "model_name": "DescriptionStyleModel",
          "state": {
            "_model_module": "@jupyter-widgets/controls",
            "_model_module_version": "1.5.0",
            "_model_name": "DescriptionStyleModel",
            "_view_count": null,
            "_view_module": "@jupyter-widgets/base",
            "_view_module_version": "1.2.0",
            "_view_name": "StyleView",
            "description_width": ""
          }
        },
        "fe5d2b3be863488793cc94684599258f": {
          "model_module": "@jupyter-widgets/controls",
          "model_module_version": "1.5.0",
          "model_name": "FloatProgressModel",
          "state": {
            "_dom_classes": [],
            "_model_module": "@jupyter-widgets/controls",
            "_model_module_version": "1.5.0",
            "_model_name": "FloatProgressModel",
            "_view_count": null,
            "_view_module": "@jupyter-widgets/controls",
            "_view_module_version": "1.5.0",
            "_view_name": "ProgressView",
            "bar_style": "success",
            "description": "",
            "description_tooltip": null,
            "layout": "IPY_MODEL_9f1dabb72a7640a09d8f26f089b539d9",
            "max": 505207915,
            "min": 0,
            "orientation": "horizontal",
            "style": "IPY_MODEL_d2a01e479a454f6798084645b68705f1",
            "value": 505207915
          }
        }
      }
    }
  },
  "nbformat": 4,
  "nbformat_minor": 0
}
